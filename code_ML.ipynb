{
 "cells": [
  {
   "cell_type": "markdown",
   "metadata": {
    "id": "f64bBXyhpxTR"
   },
   "source": [
    "# Text Classification - Deep Learning CNN Models\n"
   ]
  },
  {
   "cell_type": "code",
   "execution_count": 1,
   "metadata": {
    "colab": {
     "base_uri": "https://localhost:8080/",
     "height": 0
    },
    "id": "iayiP3GZrjjk",
    "outputId": "006743b3-59f7-4f0e-9f91-89ee8151a08d"
   },
   "outputs": [
    {
     "name": "stdout",
     "output_type": "stream",
     "text": [
      "Collecting contractions\n",
      "  Downloading contractions-0.1.72-py2.py3-none-any.whl (8.3 kB)\n",
      "Collecting textsearch>=0.0.21\n",
      "  Downloading textsearch-0.0.21-py2.py3-none-any.whl (7.5 kB)\n",
      "Collecting anyascii\n",
      "  Downloading anyascii-0.3.1-py3-none-any.whl (287 kB)\n",
      "\u001b[K     |████████████████████████████████| 287 kB 5.2 MB/s \n",
      "\u001b[?25hCollecting pyahocorasick\n",
      "  Downloading pyahocorasick-1.4.4-cp37-cp37m-manylinux_2_17_x86_64.manylinux2014_x86_64.whl (106 kB)\n",
      "\u001b[K     |████████████████████████████████| 106 kB 48.3 MB/s \n",
      "\u001b[?25hInstalling collected packages: pyahocorasick, anyascii, textsearch, contractions\n",
      "Successfully installed anyascii-0.3.1 contractions-0.1.72 pyahocorasick-1.4.4 textsearch-0.0.21\n",
      "Requirement already satisfied: textsearch in /usr/local/lib/python3.7/dist-packages (0.0.21)\n",
      "Requirement already satisfied: pyahocorasick in /usr/local/lib/python3.7/dist-packages (from textsearch) (1.4.4)\n",
      "Requirement already satisfied: anyascii in /usr/local/lib/python3.7/dist-packages (from textsearch) (0.3.1)\n",
      "Requirement already satisfied: tqdm in /usr/local/lib/python3.7/dist-packages (4.64.0)\n",
      "[nltk_data] Downloading package stopwords to /root/nltk_data...\n",
      "[nltk_data]   Unzipping corpora/stopwords.zip.\n",
      "[nltk_data] Downloading package punkt to /root/nltk_data...\n",
      "[nltk_data]   Unzipping tokenizers/punkt.zip.\n",
      "[nltk_data] Downloading package wordnet to /root/nltk_data...\n",
      "[nltk_data]   Unzipping corpora/wordnet.zip.\n"
     ]
    }
   ],
   "source": [
    "# Import & inastalling packages\n",
    "\n",
    "!pip install contractions\n",
    "!pip install textsearch\n",
    "!pip install tqdm\n",
    "\n",
    "# Load python modules\n",
    "import string\n",
    "import numpy as np\n",
    "import matplotlib.pyplot as plt\n",
    "%matplotlib inline\n",
    "import pandas as pd\n",
    "from sklearn import model_selection\n",
    "import seaborn as sns\n",
    "import re\n",
    "import contractions\n",
    "from bs4 import BeautifulSoup\n",
    "import tqdm\n",
    "import unicodedata\n",
    "\n",
    "#nltk libraries\n",
    "import nltk\n",
    "nltk.download('stopwords')\n",
    "nltk.download('punkt')\n",
    "nltk.download('wordnet')\n",
    "from nltk import word_tokenize\n",
    "from nltk.corpus import stopwords\n",
    "from nltk.stem.wordnet import WordNetLemmatizer\n",
    "from nltk.stem import PorterStemmer\n",
    "from nltk.tokenize import sent_tokenize, word_tokenize\n",
    "\n",
    "#sklearn libraries\n",
    "from sklearn.model_selection import train_test_split\n",
    "from sklearn.linear_model import LogisticRegression,SGDClassifier\n",
    "from sklearn.naive_bayes import MultinomialNB\n",
    "from sklearn import metrics \n",
    "from sklearn.metrics import classification_report, f1_score, accuracy_score, confusion_matrix\n",
    "from sklearn.metrics import roc_curve, auc, roc_auc_score\n",
    "from sklearn.feature_extraction.text import CountVectorizer, TfidfTransformer,TfidfVectorizer\n",
    "from sklearn.pipeline import Pipeline\n",
    "from sklearn.ensemble import RandomForestClassifier,GradientBoostingClassifier\n",
    "from sklearn.svm import LinearSVC\n",
    "from sklearn.model_selection import GridSearchCV\n",
    "\n",
    "#Tensorflow layers\n",
    "from tensorflow.keras.models import Sequential\n",
    "from tensorflow.keras.layers import Dense\n",
    "from tensorflow.keras.layers import Flatten\n",
    "from tensorflow.keras.layers import Conv1D\n",
    "from tensorflow.keras.layers import MaxPooling1D\n",
    "from tensorflow.keras.layers import Embedding\n",
    "from tensorflow.keras.preprocessing.text import Tokenizer\n",
    "from tensorflow.keras.preprocessing import sequence\n",
    "from sklearn.preprocessing import LabelEncoder\n",
    "\n",
    "# fix random seed for reproducibility\n",
    "seed = 42\n",
    "np.random.seed(seed)"
   ]
  },
  {
   "cell_type": "markdown",
   "metadata": {
    "id": "bBG1K2S9N5Tq"
   },
   "source": [
    "# 1.Exploratory Data Analyis"
   ]
  },
  {
   "cell_type": "markdown",
   "metadata": {
    "id": "8_JEXODppxTc"
   },
   "source": [
    "### Load Amazon Review Dataset"
   ]
  },
  {
   "cell_type": "code",
   "execution_count": 2,
   "metadata": {
    "colab": {
     "base_uri": "https://localhost:8080/",
     "height": 0
    },
    "id": "U7pQ5WR1VYqm",
    "outputId": "ddf3ca1b-68ba-4c7a-b9a3-a4332fdebd23"
   },
   "outputs": [
    {
     "name": "stdout",
     "output_type": "stream",
     "text": [
      "<class 'pandas.core.frame.DataFrame'>\n",
      "RangeIndex: 32917 entries, 0 to 32916\n",
      "Data columns (total 5 columns):\n",
      " #   Column            Non-Null Count  Dtype  \n",
      "---  ------            --------------  -----  \n",
      " 0   review_id         32917 non-null  object \n",
      " 1   text              32905 non-null  object \n",
      " 2   verified          32802 non-null  object \n",
      " 3   review_score      32917 non-null  float64\n",
      " 4   product_category  32011 non-null  object \n",
      "dtypes: float64(1), object(4)\n",
      "memory usage: 1.3+ MB\n"
     ]
    }
   ],
   "source": [
    "df = pd.read_csv('processed_reviews_split_surnamesPQ_minimal.csv')\n",
    "df.info()"
   ]
  },
  {
   "cell_type": "code",
   "execution_count": 3,
   "metadata": {
    "id": "_5xzAN51qaSJ"
   },
   "outputs": [],
   "source": [
    "#Label distributions - excluded & reason for exclusion\n",
    "df['excluded'] = df.isna().sum(axis=1).apply(lambda x: 1 if x == 0 else 0)\n",
    "df['reason_for_exclusion'] = df.isnull().sum(axis=1).apply(lambda x: 'Missing values' if x == 0  else 'N/A')\n",
    "\n",
    "m1 =  df.duplicated(['text'])   \n",
    "df['reason_for_exclusion'] = np.select([m1],['duplicated'], default='N/A')\n",
    "\n",
    "df.insert(len(df.columns)-6, 'excluded', df.pop('excluded'))\n",
    "df.insert(len(df.columns)-5, 'reason_for_exclusion', df.pop('reason_for_exclusion')) "
   ]
  },
  {
   "cell_type": "code",
   "execution_count": 4,
   "metadata": {
    "colab": {
     "base_uri": "https://localhost:8080/",
     "height": 467
    },
    "id": "_vp4odnYr0Jc",
    "outputId": "ba85e2cf-c747-42d3-c727-2118b3832837"
   },
   "outputs": [
    {
     "data": {
      "text/html": [
       "\n",
       "  <div id=\"df-1a76c657-cd88-439f-baf1-f2640a7c5dfb\">\n",
       "    <div class=\"colab-df-container\">\n",
       "      <div>\n",
       "<style scoped>\n",
       "    .dataframe tbody tr th:only-of-type {\n",
       "        vertical-align: middle;\n",
       "    }\n",
       "\n",
       "    .dataframe tbody tr th {\n",
       "        vertical-align: top;\n",
       "    }\n",
       "\n",
       "    .dataframe thead th {\n",
       "        text-align: right;\n",
       "    }\n",
       "</style>\n",
       "<table border=\"1\" class=\"dataframe\">\n",
       "  <thead>\n",
       "    <tr style=\"text-align: right;\">\n",
       "      <th></th>\n",
       "      <th>review_id</th>\n",
       "      <th>excluded</th>\n",
       "      <th>reason_for_exclusion</th>\n",
       "      <th>text</th>\n",
       "      <th>verified</th>\n",
       "      <th>review_score</th>\n",
       "      <th>product_category</th>\n",
       "    </tr>\n",
       "  </thead>\n",
       "  <tbody>\n",
       "    <tr>\n",
       "      <th>0</th>\n",
       "      <td>product_review_000000</td>\n",
       "      <td>1</td>\n",
       "      <td>N/A</td>\n",
       "      <td>Works as described.  Nice combo tool.. Nice co...</td>\n",
       "      <td>True</td>\n",
       "      <td>4.0</td>\n",
       "      <td>musical_instruments</td>\n",
       "    </tr>\n",
       "    <tr>\n",
       "      <th>1</th>\n",
       "      <td>product_review_000001</td>\n",
       "      <td>1</td>\n",
       "      <td>N/A</td>\n",
       "      <td>I used this after using a \"straight\" bridge. T...</td>\n",
       "      <td>True</td>\n",
       "      <td>5.0</td>\n",
       "      <td>musical_instruments</td>\n",
       "    </tr>\n",
       "    <tr>\n",
       "      <th>2</th>\n",
       "      <td>product_review_000002</td>\n",
       "      <td>1</td>\n",
       "      <td>N/A</td>\n",
       "      <td>At first I was very hesitant about this game. ...</td>\n",
       "      <td>False</td>\n",
       "      <td>5.0</td>\n",
       "      <td>video_games</td>\n",
       "    </tr>\n",
       "    <tr>\n",
       "      <th>3</th>\n",
       "      <td>product_review_000003</td>\n",
       "      <td>1</td>\n",
       "      <td>N/A</td>\n",
       "      <td>great reverb pedal. great addition to my pedal...</td>\n",
       "      <td>True</td>\n",
       "      <td>5.0</td>\n",
       "      <td>musical_instruments</td>\n",
       "    </tr>\n",
       "    <tr>\n",
       "      <th>4</th>\n",
       "      <td>product_review_000004</td>\n",
       "      <td>1</td>\n",
       "      <td>N/A</td>\n",
       "      <td>Five stars. Good deal a must buy</td>\n",
       "      <td>True</td>\n",
       "      <td>5.0</td>\n",
       "      <td>video_games</td>\n",
       "    </tr>\n",
       "    <tr>\n",
       "      <th>...</th>\n",
       "      <td>...</td>\n",
       "      <td>...</td>\n",
       "      <td>...</td>\n",
       "      <td>...</td>\n",
       "      <td>...</td>\n",
       "      <td>...</td>\n",
       "      <td>...</td>\n",
       "    </tr>\n",
       "    <tr>\n",
       "      <th>32912</th>\n",
       "      <td>product_review_032912</td>\n",
       "      <td>0</td>\n",
       "      <td>duplicated</td>\n",
       "      <td>This game is one of my favorites.  I found the...</td>\n",
       "      <td>False</td>\n",
       "      <td>5.0</td>\n",
       "      <td>NaN</td>\n",
       "    </tr>\n",
       "    <tr>\n",
       "      <th>32913</th>\n",
       "      <td>product_review_032913</td>\n",
       "      <td>1</td>\n",
       "      <td>N/A</td>\n",
       "      <td>Came in the box. No complaints.. Good!</td>\n",
       "      <td>True</td>\n",
       "      <td>5.0</td>\n",
       "      <td>video_games</td>\n",
       "    </tr>\n",
       "    <tr>\n",
       "      <th>32914</th>\n",
       "      <td>product_review_032914</td>\n",
       "      <td>1</td>\n",
       "      <td>N/A</td>\n",
       "      <td>First off - it has knobs. I like knobs. Easy t...</td>\n",
       "      <td>False</td>\n",
       "      <td>5.0</td>\n",
       "      <td>musical_instruments</td>\n",
       "    </tr>\n",
       "    <tr>\n",
       "      <th>32915</th>\n",
       "      <td>product_review_032915</td>\n",
       "      <td>1</td>\n",
       "      <td>N/A</td>\n",
       "      <td>These are 100% exactly as represented.  Great ...</td>\n",
       "      <td>True</td>\n",
       "      <td>5.0</td>\n",
       "      <td>musical_instruments</td>\n",
       "    </tr>\n",
       "    <tr>\n",
       "      <th>32916</th>\n",
       "      <td>product_review_032916</td>\n",
       "      <td>1</td>\n",
       "      <td>N/A</td>\n",
       "      <td>I wrote this awful review about the pickup, bu...</td>\n",
       "      <td>False</td>\n",
       "      <td>3.0</td>\n",
       "      <td>musical_instruments</td>\n",
       "    </tr>\n",
       "  </tbody>\n",
       "</table>\n",
       "<p>32917 rows × 7 columns</p>\n",
       "</div>\n",
       "      <button class=\"colab-df-convert\" onclick=\"convertToInteractive('df-1a76c657-cd88-439f-baf1-f2640a7c5dfb')\"\n",
       "              title=\"Convert this dataframe to an interactive table.\"\n",
       "              style=\"display:none;\">\n",
       "        \n",
       "  <svg xmlns=\"http://www.w3.org/2000/svg\" height=\"24px\"viewBox=\"0 0 24 24\"\n",
       "       width=\"24px\">\n",
       "    <path d=\"M0 0h24v24H0V0z\" fill=\"none\"/>\n",
       "    <path d=\"M18.56 5.44l.94 2.06.94-2.06 2.06-.94-2.06-.94-.94-2.06-.94 2.06-2.06.94zm-11 1L8.5 8.5l.94-2.06 2.06-.94-2.06-.94L8.5 2.5l-.94 2.06-2.06.94zm10 10l.94 2.06.94-2.06 2.06-.94-2.06-.94-.94-2.06-.94 2.06-2.06.94z\"/><path d=\"M17.41 7.96l-1.37-1.37c-.4-.4-.92-.59-1.43-.59-.52 0-1.04.2-1.43.59L10.3 9.45l-7.72 7.72c-.78.78-.78 2.05 0 2.83L4 21.41c.39.39.9.59 1.41.59.51 0 1.02-.2 1.41-.59l7.78-7.78 2.81-2.81c.8-.78.8-2.07 0-2.86zM5.41 20L4 18.59l7.72-7.72 1.47 1.35L5.41 20z\"/>\n",
       "  </svg>\n",
       "      </button>\n",
       "      \n",
       "  <style>\n",
       "    .colab-df-container {\n",
       "      display:flex;\n",
       "      flex-wrap:wrap;\n",
       "      gap: 12px;\n",
       "    }\n",
       "\n",
       "    .colab-df-convert {\n",
       "      background-color: #E8F0FE;\n",
       "      border: none;\n",
       "      border-radius: 50%;\n",
       "      cursor: pointer;\n",
       "      display: none;\n",
       "      fill: #1967D2;\n",
       "      height: 32px;\n",
       "      padding: 0 0 0 0;\n",
       "      width: 32px;\n",
       "    }\n",
       "\n",
       "    .colab-df-convert:hover {\n",
       "      background-color: #E2EBFA;\n",
       "      box-shadow: 0px 1px 2px rgba(60, 64, 67, 0.3), 0px 1px 3px 1px rgba(60, 64, 67, 0.15);\n",
       "      fill: #174EA6;\n",
       "    }\n",
       "\n",
       "    [theme=dark] .colab-df-convert {\n",
       "      background-color: #3B4455;\n",
       "      fill: #D2E3FC;\n",
       "    }\n",
       "\n",
       "    [theme=dark] .colab-df-convert:hover {\n",
       "      background-color: #434B5C;\n",
       "      box-shadow: 0px 1px 3px 1px rgba(0, 0, 0, 0.15);\n",
       "      filter: drop-shadow(0px 1px 2px rgba(0, 0, 0, 0.3));\n",
       "      fill: #FFFFFF;\n",
       "    }\n",
       "  </style>\n",
       "\n",
       "      <script>\n",
       "        const buttonEl =\n",
       "          document.querySelector('#df-1a76c657-cd88-439f-baf1-f2640a7c5dfb button.colab-df-convert');\n",
       "        buttonEl.style.display =\n",
       "          google.colab.kernel.accessAllowed ? 'block' : 'none';\n",
       "\n",
       "        async function convertToInteractive(key) {\n",
       "          const element = document.querySelector('#df-1a76c657-cd88-439f-baf1-f2640a7c5dfb');\n",
       "          const dataTable =\n",
       "            await google.colab.kernel.invokeFunction('convertToInteractive',\n",
       "                                                     [key], {});\n",
       "          if (!dataTable) return;\n",
       "\n",
       "          const docLinkHtml = 'Like what you see? Visit the ' +\n",
       "            '<a target=\"_blank\" href=https://colab.research.google.com/notebooks/data_table.ipynb>data table notebook</a>'\n",
       "            + ' to learn more about interactive tables.';\n",
       "          element.innerHTML = '';\n",
       "          dataTable['output_type'] = 'display_data';\n",
       "          await google.colab.output.renderOutput(dataTable, element);\n",
       "          const docLink = document.createElement('div');\n",
       "          docLink.innerHTML = docLinkHtml;\n",
       "          element.appendChild(docLink);\n",
       "        }\n",
       "      </script>\n",
       "    </div>\n",
       "  </div>\n",
       "  "
      ],
      "text/plain": [
       "                   review_id  excluded reason_for_exclusion  \\\n",
       "0      product_review_000000         1                  N/A   \n",
       "1      product_review_000001         1                  N/A   \n",
       "2      product_review_000002         1                  N/A   \n",
       "3      product_review_000003         1                  N/A   \n",
       "4      product_review_000004         1                  N/A   \n",
       "...                      ...       ...                  ...   \n",
       "32912  product_review_032912         0           duplicated   \n",
       "32913  product_review_032913         1                  N/A   \n",
       "32914  product_review_032914         1                  N/A   \n",
       "32915  product_review_032915         1                  N/A   \n",
       "32916  product_review_032916         1                  N/A   \n",
       "\n",
       "                                                    text verified  \\\n",
       "0      Works as described.  Nice combo tool.. Nice co...     True   \n",
       "1      I used this after using a \"straight\" bridge. T...     True   \n",
       "2      At first I was very hesitant about this game. ...    False   \n",
       "3      great reverb pedal. great addition to my pedal...     True   \n",
       "4                       Five stars. Good deal a must buy     True   \n",
       "...                                                  ...      ...   \n",
       "32912  This game is one of my favorites.  I found the...    False   \n",
       "32913             Came in the box. No complaints.. Good!     True   \n",
       "32914  First off - it has knobs. I like knobs. Easy t...    False   \n",
       "32915  These are 100% exactly as represented.  Great ...     True   \n",
       "32916  I wrote this awful review about the pickup, bu...    False   \n",
       "\n",
       "       review_score     product_category  \n",
       "0               4.0  musical_instruments  \n",
       "1               5.0  musical_instruments  \n",
       "2               5.0          video_games  \n",
       "3               5.0  musical_instruments  \n",
       "4               5.0          video_games  \n",
       "...             ...                  ...  \n",
       "32912           5.0                  NaN  \n",
       "32913           5.0          video_games  \n",
       "32914           5.0  musical_instruments  \n",
       "32915           5.0  musical_instruments  \n",
       "32916           3.0  musical_instruments  \n",
       "\n",
       "[32917 rows x 7 columns]"
      ]
     },
     "execution_count": 4,
     "metadata": {},
     "output_type": "execute_result"
    }
   ],
   "source": [
    "df"
   ]
  },
  {
   "cell_type": "code",
   "execution_count": 5,
   "metadata": {
    "colab": {
     "base_uri": "https://localhost:8080/",
     "height": 0
    },
    "id": "KMYT6mxmsNjn",
    "outputId": "70b8f1ba-067f-4860-8350-442c691df722"
   },
   "outputs": [
    {
     "data": {
      "text/plain": [
       "array(['N/A', 'duplicated'], dtype=object)"
      ]
     },
     "execution_count": 5,
     "metadata": {},
     "output_type": "execute_result"
    }
   ],
   "source": [
    "df['reason_for_exclusion'].unique()"
   ]
  },
  {
   "cell_type": "code",
   "execution_count": 6,
   "metadata": {
    "id": "pzhL4JkGq0vo"
   },
   "outputs": [],
   "source": [
    "\n",
    "df.to_csv('exclusions_dataset_task4.csv')"
   ]
  },
  {
   "cell_type": "code",
   "execution_count": 7,
   "metadata": {
    "colab": {
     "base_uri": "https://localhost:8080/",
     "height": 206
    },
    "id": "XMP7r5cUV6-B",
    "outputId": "8a4de500-d528-4d82-d363-bafb31e227b3"
   },
   "outputs": [
    {
     "data": {
      "text/html": [
       "\n",
       "  <div id=\"df-3903e2fe-a326-4ace-9e0b-63d8e98bbcc5\">\n",
       "    <div class=\"colab-df-container\">\n",
       "      <div>\n",
       "<style scoped>\n",
       "    .dataframe tbody tr th:only-of-type {\n",
       "        vertical-align: middle;\n",
       "    }\n",
       "\n",
       "    .dataframe tbody tr th {\n",
       "        vertical-align: top;\n",
       "    }\n",
       "\n",
       "    .dataframe thead th {\n",
       "        text-align: right;\n",
       "    }\n",
       "</style>\n",
       "<table border=\"1\" class=\"dataframe\">\n",
       "  <thead>\n",
       "    <tr style=\"text-align: right;\">\n",
       "      <th></th>\n",
       "      <th>review_id</th>\n",
       "      <th>excluded</th>\n",
       "      <th>reason_for_exclusion</th>\n",
       "      <th>text</th>\n",
       "      <th>verified</th>\n",
       "      <th>review_score</th>\n",
       "      <th>product_category</th>\n",
       "    </tr>\n",
       "  </thead>\n",
       "  <tbody>\n",
       "    <tr>\n",
       "      <th>0</th>\n",
       "      <td>product_review_000000</td>\n",
       "      <td>1</td>\n",
       "      <td>N/A</td>\n",
       "      <td>Works as described.  Nice combo tool.. Nice co...</td>\n",
       "      <td>True</td>\n",
       "      <td>4.0</td>\n",
       "      <td>musical_instruments</td>\n",
       "    </tr>\n",
       "    <tr>\n",
       "      <th>1</th>\n",
       "      <td>product_review_000001</td>\n",
       "      <td>1</td>\n",
       "      <td>N/A</td>\n",
       "      <td>I used this after using a \"straight\" bridge. T...</td>\n",
       "      <td>True</td>\n",
       "      <td>5.0</td>\n",
       "      <td>musical_instruments</td>\n",
       "    </tr>\n",
       "    <tr>\n",
       "      <th>2</th>\n",
       "      <td>product_review_000002</td>\n",
       "      <td>1</td>\n",
       "      <td>N/A</td>\n",
       "      <td>At first I was very hesitant about this game. ...</td>\n",
       "      <td>False</td>\n",
       "      <td>5.0</td>\n",
       "      <td>video_games</td>\n",
       "    </tr>\n",
       "    <tr>\n",
       "      <th>3</th>\n",
       "      <td>product_review_000003</td>\n",
       "      <td>1</td>\n",
       "      <td>N/A</td>\n",
       "      <td>great reverb pedal. great addition to my pedal...</td>\n",
       "      <td>True</td>\n",
       "      <td>5.0</td>\n",
       "      <td>musical_instruments</td>\n",
       "    </tr>\n",
       "    <tr>\n",
       "      <th>4</th>\n",
       "      <td>product_review_000004</td>\n",
       "      <td>1</td>\n",
       "      <td>N/A</td>\n",
       "      <td>Five stars. Good deal a must buy</td>\n",
       "      <td>True</td>\n",
       "      <td>5.0</td>\n",
       "      <td>video_games</td>\n",
       "    </tr>\n",
       "  </tbody>\n",
       "</table>\n",
       "</div>\n",
       "      <button class=\"colab-df-convert\" onclick=\"convertToInteractive('df-3903e2fe-a326-4ace-9e0b-63d8e98bbcc5')\"\n",
       "              title=\"Convert this dataframe to an interactive table.\"\n",
       "              style=\"display:none;\">\n",
       "        \n",
       "  <svg xmlns=\"http://www.w3.org/2000/svg\" height=\"24px\"viewBox=\"0 0 24 24\"\n",
       "       width=\"24px\">\n",
       "    <path d=\"M0 0h24v24H0V0z\" fill=\"none\"/>\n",
       "    <path d=\"M18.56 5.44l.94 2.06.94-2.06 2.06-.94-2.06-.94-.94-2.06-.94 2.06-2.06.94zm-11 1L8.5 8.5l.94-2.06 2.06-.94-2.06-.94L8.5 2.5l-.94 2.06-2.06.94zm10 10l.94 2.06.94-2.06 2.06-.94-2.06-.94-.94-2.06-.94 2.06-2.06.94z\"/><path d=\"M17.41 7.96l-1.37-1.37c-.4-.4-.92-.59-1.43-.59-.52 0-1.04.2-1.43.59L10.3 9.45l-7.72 7.72c-.78.78-.78 2.05 0 2.83L4 21.41c.39.39.9.59 1.41.59.51 0 1.02-.2 1.41-.59l7.78-7.78 2.81-2.81c.8-.78.8-2.07 0-2.86zM5.41 20L4 18.59l7.72-7.72 1.47 1.35L5.41 20z\"/>\n",
       "  </svg>\n",
       "      </button>\n",
       "      \n",
       "  <style>\n",
       "    .colab-df-container {\n",
       "      display:flex;\n",
       "      flex-wrap:wrap;\n",
       "      gap: 12px;\n",
       "    }\n",
       "\n",
       "    .colab-df-convert {\n",
       "      background-color: #E8F0FE;\n",
       "      border: none;\n",
       "      border-radius: 50%;\n",
       "      cursor: pointer;\n",
       "      display: none;\n",
       "      fill: #1967D2;\n",
       "      height: 32px;\n",
       "      padding: 0 0 0 0;\n",
       "      width: 32px;\n",
       "    }\n",
       "\n",
       "    .colab-df-convert:hover {\n",
       "      background-color: #E2EBFA;\n",
       "      box-shadow: 0px 1px 2px rgba(60, 64, 67, 0.3), 0px 1px 3px 1px rgba(60, 64, 67, 0.15);\n",
       "      fill: #174EA6;\n",
       "    }\n",
       "\n",
       "    [theme=dark] .colab-df-convert {\n",
       "      background-color: #3B4455;\n",
       "      fill: #D2E3FC;\n",
       "    }\n",
       "\n",
       "    [theme=dark] .colab-df-convert:hover {\n",
       "      background-color: #434B5C;\n",
       "      box-shadow: 0px 1px 3px 1px rgba(0, 0, 0, 0.15);\n",
       "      filter: drop-shadow(0px 1px 2px rgba(0, 0, 0, 0.3));\n",
       "      fill: #FFFFFF;\n",
       "    }\n",
       "  </style>\n",
       "\n",
       "      <script>\n",
       "        const buttonEl =\n",
       "          document.querySelector('#df-3903e2fe-a326-4ace-9e0b-63d8e98bbcc5 button.colab-df-convert');\n",
       "        buttonEl.style.display =\n",
       "          google.colab.kernel.accessAllowed ? 'block' : 'none';\n",
       "\n",
       "        async function convertToInteractive(key) {\n",
       "          const element = document.querySelector('#df-3903e2fe-a326-4ace-9e0b-63d8e98bbcc5');\n",
       "          const dataTable =\n",
       "            await google.colab.kernel.invokeFunction('convertToInteractive',\n",
       "                                                     [key], {});\n",
       "          if (!dataTable) return;\n",
       "\n",
       "          const docLinkHtml = 'Like what you see? Visit the ' +\n",
       "            '<a target=\"_blank\" href=https://colab.research.google.com/notebooks/data_table.ipynb>data table notebook</a>'\n",
       "            + ' to learn more about interactive tables.';\n",
       "          element.innerHTML = '';\n",
       "          dataTable['output_type'] = 'display_data';\n",
       "          await google.colab.output.renderOutput(dataTable, element);\n",
       "          const docLink = document.createElement('div');\n",
       "          docLink.innerHTML = docLinkHtml;\n",
       "          element.appendChild(docLink);\n",
       "        }\n",
       "      </script>\n",
       "    </div>\n",
       "  </div>\n",
       "  "
      ],
      "text/plain": [
       "               review_id  excluded reason_for_exclusion  \\\n",
       "0  product_review_000000         1                  N/A   \n",
       "1  product_review_000001         1                  N/A   \n",
       "2  product_review_000002         1                  N/A   \n",
       "3  product_review_000003         1                  N/A   \n",
       "4  product_review_000004         1                  N/A   \n",
       "\n",
       "                                                text verified  review_score  \\\n",
       "0  Works as described.  Nice combo tool.. Nice co...     True           4.0   \n",
       "1  I used this after using a \"straight\" bridge. T...     True           5.0   \n",
       "2  At first I was very hesitant about this game. ...    False           5.0   \n",
       "3  great reverb pedal. great addition to my pedal...     True           5.0   \n",
       "4                   Five stars. Good deal a must buy     True           5.0   \n",
       "\n",
       "      product_category  \n",
       "0  musical_instruments  \n",
       "1  musical_instruments  \n",
       "2          video_games  \n",
       "3  musical_instruments  \n",
       "4          video_games  "
      ]
     },
     "execution_count": 7,
     "metadata": {},
     "output_type": "execute_result"
    }
   ],
   "source": [
    "# View the data\n",
    "df.head()"
   ]
  },
  {
   "cell_type": "code",
   "execution_count": 8,
   "metadata": {
    "id": "q_JLxulxKnhm"
   },
   "outputs": [],
   "source": [
    "dataset = df[['text','review_score','product_category']]"
   ]
  },
  {
   "cell_type": "code",
   "execution_count": 9,
   "metadata": {
    "colab": {
     "base_uri": "https://localhost:8080/",
     "height": 423
    },
    "id": "XOgTqiU0Okcl",
    "outputId": "09996592-6de9-4421-ac6e-831590340776"
   },
   "outputs": [
    {
     "data": {
      "text/html": [
       "\n",
       "  <div id=\"df-4b2a5ad9-3608-4027-864e-1d3edece12f5\">\n",
       "    <div class=\"colab-df-container\">\n",
       "      <div>\n",
       "<style scoped>\n",
       "    .dataframe tbody tr th:only-of-type {\n",
       "        vertical-align: middle;\n",
       "    }\n",
       "\n",
       "    .dataframe tbody tr th {\n",
       "        vertical-align: top;\n",
       "    }\n",
       "\n",
       "    .dataframe thead th {\n",
       "        text-align: right;\n",
       "    }\n",
       "</style>\n",
       "<table border=\"1\" class=\"dataframe\">\n",
       "  <thead>\n",
       "    <tr style=\"text-align: right;\">\n",
       "      <th></th>\n",
       "      <th>text</th>\n",
       "      <th>review_score</th>\n",
       "      <th>product_category</th>\n",
       "    </tr>\n",
       "  </thead>\n",
       "  <tbody>\n",
       "    <tr>\n",
       "      <th>0</th>\n",
       "      <td>Works as described.  Nice combo tool.. Nice co...</td>\n",
       "      <td>4.0</td>\n",
       "      <td>musical_instruments</td>\n",
       "    </tr>\n",
       "    <tr>\n",
       "      <th>1</th>\n",
       "      <td>I used this after using a \"straight\" bridge. T...</td>\n",
       "      <td>5.0</td>\n",
       "      <td>musical_instruments</td>\n",
       "    </tr>\n",
       "    <tr>\n",
       "      <th>2</th>\n",
       "      <td>At first I was very hesitant about this game. ...</td>\n",
       "      <td>5.0</td>\n",
       "      <td>video_games</td>\n",
       "    </tr>\n",
       "    <tr>\n",
       "      <th>3</th>\n",
       "      <td>great reverb pedal. great addition to my pedal...</td>\n",
       "      <td>5.0</td>\n",
       "      <td>musical_instruments</td>\n",
       "    </tr>\n",
       "    <tr>\n",
       "      <th>4</th>\n",
       "      <td>Five stars. Good deal a must buy</td>\n",
       "      <td>5.0</td>\n",
       "      <td>video_games</td>\n",
       "    </tr>\n",
       "    <tr>\n",
       "      <th>...</th>\n",
       "      <td>...</td>\n",
       "      <td>...</td>\n",
       "      <td>...</td>\n",
       "    </tr>\n",
       "    <tr>\n",
       "      <th>32912</th>\n",
       "      <td>This game is one of my favorites.  I found the...</td>\n",
       "      <td>5.0</td>\n",
       "      <td>NaN</td>\n",
       "    </tr>\n",
       "    <tr>\n",
       "      <th>32913</th>\n",
       "      <td>Came in the box. No complaints.. Good!</td>\n",
       "      <td>5.0</td>\n",
       "      <td>video_games</td>\n",
       "    </tr>\n",
       "    <tr>\n",
       "      <th>32914</th>\n",
       "      <td>First off - it has knobs. I like knobs. Easy t...</td>\n",
       "      <td>5.0</td>\n",
       "      <td>musical_instruments</td>\n",
       "    </tr>\n",
       "    <tr>\n",
       "      <th>32915</th>\n",
       "      <td>These are 100% exactly as represented.  Great ...</td>\n",
       "      <td>5.0</td>\n",
       "      <td>musical_instruments</td>\n",
       "    </tr>\n",
       "    <tr>\n",
       "      <th>32916</th>\n",
       "      <td>I wrote this awful review about the pickup, bu...</td>\n",
       "      <td>3.0</td>\n",
       "      <td>musical_instruments</td>\n",
       "    </tr>\n",
       "  </tbody>\n",
       "</table>\n",
       "<p>32917 rows × 3 columns</p>\n",
       "</div>\n",
       "      <button class=\"colab-df-convert\" onclick=\"convertToInteractive('df-4b2a5ad9-3608-4027-864e-1d3edece12f5')\"\n",
       "              title=\"Convert this dataframe to an interactive table.\"\n",
       "              style=\"display:none;\">\n",
       "        \n",
       "  <svg xmlns=\"http://www.w3.org/2000/svg\" height=\"24px\"viewBox=\"0 0 24 24\"\n",
       "       width=\"24px\">\n",
       "    <path d=\"M0 0h24v24H0V0z\" fill=\"none\"/>\n",
       "    <path d=\"M18.56 5.44l.94 2.06.94-2.06 2.06-.94-2.06-.94-.94-2.06-.94 2.06-2.06.94zm-11 1L8.5 8.5l.94-2.06 2.06-.94-2.06-.94L8.5 2.5l-.94 2.06-2.06.94zm10 10l.94 2.06.94-2.06 2.06-.94-2.06-.94-.94-2.06-.94 2.06-2.06.94z\"/><path d=\"M17.41 7.96l-1.37-1.37c-.4-.4-.92-.59-1.43-.59-.52 0-1.04.2-1.43.59L10.3 9.45l-7.72 7.72c-.78.78-.78 2.05 0 2.83L4 21.41c.39.39.9.59 1.41.59.51 0 1.02-.2 1.41-.59l7.78-7.78 2.81-2.81c.8-.78.8-2.07 0-2.86zM5.41 20L4 18.59l7.72-7.72 1.47 1.35L5.41 20z\"/>\n",
       "  </svg>\n",
       "      </button>\n",
       "      \n",
       "  <style>\n",
       "    .colab-df-container {\n",
       "      display:flex;\n",
       "      flex-wrap:wrap;\n",
       "      gap: 12px;\n",
       "    }\n",
       "\n",
       "    .colab-df-convert {\n",
       "      background-color: #E8F0FE;\n",
       "      border: none;\n",
       "      border-radius: 50%;\n",
       "      cursor: pointer;\n",
       "      display: none;\n",
       "      fill: #1967D2;\n",
       "      height: 32px;\n",
       "      padding: 0 0 0 0;\n",
       "      width: 32px;\n",
       "    }\n",
       "\n",
       "    .colab-df-convert:hover {\n",
       "      background-color: #E2EBFA;\n",
       "      box-shadow: 0px 1px 2px rgba(60, 64, 67, 0.3), 0px 1px 3px 1px rgba(60, 64, 67, 0.15);\n",
       "      fill: #174EA6;\n",
       "    }\n",
       "\n",
       "    [theme=dark] .colab-df-convert {\n",
       "      background-color: #3B4455;\n",
       "      fill: #D2E3FC;\n",
       "    }\n",
       "\n",
       "    [theme=dark] .colab-df-convert:hover {\n",
       "      background-color: #434B5C;\n",
       "      box-shadow: 0px 1px 3px 1px rgba(0, 0, 0, 0.15);\n",
       "      filter: drop-shadow(0px 1px 2px rgba(0, 0, 0, 0.3));\n",
       "      fill: #FFFFFF;\n",
       "    }\n",
       "  </style>\n",
       "\n",
       "      <script>\n",
       "        const buttonEl =\n",
       "          document.querySelector('#df-4b2a5ad9-3608-4027-864e-1d3edece12f5 button.colab-df-convert');\n",
       "        buttonEl.style.display =\n",
       "          google.colab.kernel.accessAllowed ? 'block' : 'none';\n",
       "\n",
       "        async function convertToInteractive(key) {\n",
       "          const element = document.querySelector('#df-4b2a5ad9-3608-4027-864e-1d3edece12f5');\n",
       "          const dataTable =\n",
       "            await google.colab.kernel.invokeFunction('convertToInteractive',\n",
       "                                                     [key], {});\n",
       "          if (!dataTable) return;\n",
       "\n",
       "          const docLinkHtml = 'Like what you see? Visit the ' +\n",
       "            '<a target=\"_blank\" href=https://colab.research.google.com/notebooks/data_table.ipynb>data table notebook</a>'\n",
       "            + ' to learn more about interactive tables.';\n",
       "          element.innerHTML = '';\n",
       "          dataTable['output_type'] = 'display_data';\n",
       "          await google.colab.output.renderOutput(dataTable, element);\n",
       "          const docLink = document.createElement('div');\n",
       "          docLink.innerHTML = docLinkHtml;\n",
       "          element.appendChild(docLink);\n",
       "        }\n",
       "      </script>\n",
       "    </div>\n",
       "  </div>\n",
       "  "
      ],
      "text/plain": [
       "                                                    text  review_score  \\\n",
       "0      Works as described.  Nice combo tool.. Nice co...           4.0   \n",
       "1      I used this after using a \"straight\" bridge. T...           5.0   \n",
       "2      At first I was very hesitant about this game. ...           5.0   \n",
       "3      great reverb pedal. great addition to my pedal...           5.0   \n",
       "4                       Five stars. Good deal a must buy           5.0   \n",
       "...                                                  ...           ...   \n",
       "32912  This game is one of my favorites.  I found the...           5.0   \n",
       "32913             Came in the box. No complaints.. Good!           5.0   \n",
       "32914  First off - it has knobs. I like knobs. Easy t...           5.0   \n",
       "32915  These are 100% exactly as represented.  Great ...           5.0   \n",
       "32916  I wrote this awful review about the pickup, bu...           3.0   \n",
       "\n",
       "          product_category  \n",
       "0      musical_instruments  \n",
       "1      musical_instruments  \n",
       "2              video_games  \n",
       "3      musical_instruments  \n",
       "4              video_games  \n",
       "...                    ...  \n",
       "32912                  NaN  \n",
       "32913          video_games  \n",
       "32914  musical_instruments  \n",
       "32915  musical_instruments  \n",
       "32916  musical_instruments  \n",
       "\n",
       "[32917 rows x 3 columns]"
      ]
     },
     "execution_count": 9,
     "metadata": {},
     "output_type": "execute_result"
    }
   ],
   "source": [
    "dataset"
   ]
  },
  {
   "cell_type": "markdown",
   "metadata": {
    "id": "8uPfQeTVOoDD"
   },
   "source": [
    "# 2.Data Cleaning"
   ]
  },
  {
   "cell_type": "code",
   "execution_count": 10,
   "metadata": {
    "colab": {
     "base_uri": "https://localhost:8080/",
     "height": 0
    },
    "id": "KJ3Y1d6gP5Am",
    "outputId": "b0a187cc-e7d6-4545-a447-3bb206f94dd0"
   },
   "outputs": [
    {
     "data": {
      "text/plain": [
       "2761"
      ]
     },
     "execution_count": 10,
     "metadata": {},
     "output_type": "execute_result"
    }
   ],
   "source": [
    "# checking for any duplicates in the text columns\n",
    "dataset['text'].duplicated().sum()"
   ]
  },
  {
   "cell_type": "code",
   "execution_count": 11,
   "metadata": {
    "colab": {
     "base_uri": "https://localhost:8080/",
     "height": 0
    },
    "id": "wAJT4BOObvTc",
    "outputId": "6ef3dab9-0805-4a78-8f98-a3ba27f03f2d"
   },
   "outputs": [
    {
     "data": {
      "text/plain": [
       "(30156, 3)"
      ]
     },
     "execution_count": 11,
     "metadata": {},
     "output_type": "execute_result"
    }
   ],
   "source": [
    "dataset=dataset.drop_duplicates('text', keep='first')\n",
    "dataset.shape"
   ]
  },
  {
   "cell_type": "code",
   "execution_count": 12,
   "metadata": {
    "colab": {
     "base_uri": "https://localhost:8080/",
     "height": 0
    },
    "id": "JLdmUGVcLwS3",
    "outputId": "f5a1b0b8-b59f-41d9-99f9-6348435b28be"
   },
   "outputs": [
    {
     "data": {
      "text/plain": [
       "(30155, 3)"
      ]
     },
     "execution_count": 12,
     "metadata": {},
     "output_type": "execute_result"
    }
   ],
   "source": [
    "dataset = dataset[dataset.text.notnull()]\n",
    "dataset.shape"
   ]
  },
  {
   "cell_type": "code",
   "execution_count": 13,
   "metadata": {
    "colab": {
     "base_uri": "https://localhost:8080/",
     "height": 0
    },
    "id": "6gQnl3xNOZ7d",
    "outputId": "28c028d3-96e8-4b00-fea5-a1e1f65ca7a4"
   },
   "outputs": [
    {
     "data": {
      "text/plain": [
       "(29700, 3)"
      ]
     },
     "execution_count": 13,
     "metadata": {},
     "output_type": "execute_result"
    }
   ],
   "source": [
    "dataset=dataset[dataset.product_category.notnull()]\n",
    "dataset.shape"
   ]
  },
  {
   "cell_type": "code",
   "execution_count": 14,
   "metadata": {
    "colab": {
     "base_uri": "https://localhost:8080/",
     "height": 0
    },
    "id": "N0OW4NnzPp5V",
    "outputId": "03069fab-d2ef-4146-d0b5-ba1ad1125b11"
   },
   "outputs": [
    {
     "data": {
      "text/plain": [
       "(29700, 3)"
      ]
     },
     "execution_count": 14,
     "metadata": {},
     "output_type": "execute_result"
    }
   ],
   "source": [
    "dataset=dataset[dataset.review_score.notnull()]\n",
    "dataset.shape"
   ]
  },
  {
   "cell_type": "code",
   "execution_count": 15,
   "metadata": {
    "colab": {
     "base_uri": "https://localhost:8080/",
     "height": 0
    },
    "id": "Ls44k8YoPNXx",
    "outputId": "29468ebb-41e9-4b34-9212-1de4539bb5df"
   },
   "outputs": [
    {
     "data": {
      "text/plain": [
       "text                0\n",
       "review_score        0\n",
       "product_category    0\n",
       "dtype: int64"
      ]
     },
     "execution_count": 15,
     "metadata": {},
     "output_type": "execute_result"
    }
   ],
   "source": [
    "dataset.isnull().sum()"
   ]
  },
  {
   "cell_type": "code",
   "execution_count": 16,
   "metadata": {
    "id": "7Wt9TtUVCb3O"
   },
   "outputs": [],
   "source": [
    "dataset['review_score'] = dataset['review_score'].replace([-1.0],1.0)"
   ]
  },
  {
   "cell_type": "code",
   "execution_count": 17,
   "metadata": {
    "id": "0XEKMlAjS7KG"
   },
   "outputs": [],
   "source": [
    "dataset['review_score']=dataset['review_score'].astype(int)"
   ]
  },
  {
   "cell_type": "code",
   "execution_count": 18,
   "metadata": {
    "colab": {
     "base_uri": "https://localhost:8080/",
     "height": 0
    },
    "id": "C7S5EINRPeVg",
    "outputId": "5470c3f6-49df-4734-9f94-0fc0e733d1bc"
   },
   "outputs": [
    {
     "data": {
      "text/plain": [
       "array([4, 5, 1, 3, 2])"
      ]
     },
     "execution_count": 18,
     "metadata": {},
     "output_type": "execute_result"
    }
   ],
   "source": [
    "dataset['review_score'].unique()"
   ]
  },
  {
   "cell_type": "markdown",
   "metadata": {
    "id": "-qBM4Od_pxTp"
   },
   "source": [
    "## 3.Data Splitting"
   ]
  },
  {
   "cell_type": "code",
   "execution_count": 19,
   "metadata": {
    "id": "XpwueLn6V-qF"
   },
   "outputs": [],
   "source": [
    "# build train and test datasets\n",
    "text = dataset['text'].values\n",
    "category = dataset['product_category'].values\n",
    "\n",
    "train_text = text[:20800]\n",
    "train_category = category[:20800]\n",
    "\n",
    "test_text = text[20800:]\n",
    "test_category = category[20800:]"
   ]
  },
  {
   "cell_type": "markdown",
   "metadata": {
    "id": "CETaiGM2tO_d"
   },
   "source": [
    "### 3.1 Text Wrangling & Normalization - Text Prcoessing"
   ]
  },
  {
   "cell_type": "code",
   "execution_count": 20,
   "metadata": {
    "id": "tkFyu9u3tUOi"
   },
   "outputs": [],
   "source": [
    "def strip_html_tags(text):\n",
    "  soup = BeautifulSoup(text, \"html.parser\")\n",
    "  [s.extract() for s in soup(['iframe', 'script'])]\n",
    "  stripped_text = soup.get_text()\n",
    "  stripped_text = re.sub(r'[\\r|\\n|\\r\\n]+', '\\n', stripped_text)\n",
    "  return stripped_text\n",
    "\n",
    "def remove_accented_chars(text):\n",
    "  text = unicodedata.normalize('NFKD', text).encode('ascii', 'ignore').decode('utf-8', 'ignore')\n",
    "  return text\n",
    "\n",
    "def pre_process_corpus(docs):\n",
    "  norm_docs = []\n",
    "  for doc in tqdm.tqdm(docs):\n",
    "    doc = strip_html_tags(doc)\n",
    "    doc = doc.translate(doc.maketrans(\"\\n\\t\\r\", \"   \"))\n",
    "    doc = doc.lower()\n",
    "    doc = remove_accented_chars(doc)\n",
    "    doc = contractions.fix(doc)\n",
    "    # lower case and remove special characters\\whitespaces\n",
    "    doc = re.sub(r'[^a-zA-Z0-9\\s]', '', doc, re.I|re.A)\n",
    "    doc = re.sub(' +', ' ', doc)\n",
    "    doc = doc.strip()  \n",
    "    norm_docs.append(doc)\n",
    "  \n",
    "  return norm_docs"
   ]
  },
  {
   "cell_type": "code",
   "execution_count": 21,
   "metadata": {
    "colab": {
     "base_uri": "https://localhost:8080/",
     "height": 0
    },
    "id": "EgAqgSnHtap5",
    "outputId": "24857ea9-3a23-4e92-8b18-33d32f99c217"
   },
   "outputs": [
    {
     "name": "stderr",
     "output_type": "stream",
     "text": [
      "100%|██████████| 20800/20800 [00:11<00:00, 1783.14it/s]\n",
      "100%|██████████| 8900/8900 [00:04<00:00, 1797.90it/s]\n",
      "100%|██████████| 29700/29700 [00:20<00:00, 1442.90it/s]"
     ]
    },
    {
     "name": "stdout",
     "output_type": "stream",
     "text": [
      "CPU times: user 26.1 s, sys: 859 ms, total: 26.9 s\n",
      "Wall time: 37.3 s\n"
     ]
    },
    {
     "name": "stderr",
     "output_type": "stream",
     "text": [
      "\n"
     ]
    }
   ],
   "source": [
    "%%time\n",
    "norm_train_text = pre_process_corpus(train_text)\n",
    "norm_test_text = pre_process_corpus(test_text)\n",
    "text = pre_process_corpus(text)"
   ]
  },
  {
   "cell_type": "code",
   "execution_count": 22,
   "metadata": {
    "id": "BrsAFmogTbah"
   },
   "outputs": [],
   "source": [
    "dataset['cleantext'] = text"
   ]
  },
  {
   "cell_type": "code",
   "execution_count": 23,
   "metadata": {
    "colab": {
     "base_uri": "https://localhost:8080/",
     "height": 0
    },
    "id": "8jis54gRQ-Yn",
    "outputId": "ea027b84-634c-4895-a1c8-050746deca5a"
   },
   "outputs": [
    {
     "data": {
      "text/plain": [
       "text                0\n",
       "review_score        0\n",
       "product_category    0\n",
       "cleantext           0\n",
       "dtype: int64"
      ]
     },
     "execution_count": 23,
     "metadata": {},
     "output_type": "execute_result"
    }
   ],
   "source": [
    "#After preprocesing\n",
    "dataset.isnull().sum()"
   ]
  },
  {
   "cell_type": "code",
   "execution_count": 24,
   "metadata": {
    "id": "6bAw2QmbQ62y"
   },
   "outputs": [],
   "source": [
    "dataset.dropna(inplace = True)"
   ]
  },
  {
   "cell_type": "markdown",
   "metadata": {
    "id": "COgKPRmLpxTu"
   },
   "source": [
    "## 3.2 Train - Test Preprocessing\n",
    "\n",
    "To prepare text data for our deep learning model, we transform each review into a sequence.\n",
    "Every word in the review is mapped to an integer index and thus the sentence turns into a sequence of numbers.\n",
    "\n",
    "To perform this transformation, keras provides the ```Tokenizer```"
   ]
  },
  {
   "cell_type": "code",
   "execution_count": 25,
   "metadata": {
    "colab": {
     "base_uri": "https://localhost:8080/",
     "height": 0
    },
    "id": "hCDBIIHQSLIF",
    "outputId": "dc2ea9ea-e7ee-436d-f148-7f297ea37285",
    "scrolled": true
   },
   "outputs": [
    {
     "data": {
      "text/plain": [
       "['i',\n",
       " 'me',\n",
       " 'my',\n",
       " 'myself',\n",
       " 'we',\n",
       " 'our',\n",
       " 'ours',\n",
       " 'ourselves',\n",
       " 'you',\n",
       " \"you're\",\n",
       " \"you've\",\n",
       " \"you'll\",\n",
       " \"you'd\",\n",
       " 'your',\n",
       " 'yours',\n",
       " 'yourself',\n",
       " 'yourselves',\n",
       " 'he',\n",
       " 'him',\n",
       " 'his',\n",
       " 'himself',\n",
       " 'she',\n",
       " \"she's\",\n",
       " 'her',\n",
       " 'hers',\n",
       " 'herself',\n",
       " 'it',\n",
       " \"it's\",\n",
       " 'its',\n",
       " 'itself',\n",
       " 'they',\n",
       " 'them',\n",
       " 'their',\n",
       " 'theirs',\n",
       " 'themselves',\n",
       " 'what',\n",
       " 'which',\n",
       " 'who',\n",
       " 'whom',\n",
       " 'this',\n",
       " 'that',\n",
       " \"that'll\",\n",
       " 'these',\n",
       " 'those',\n",
       " 'am',\n",
       " 'is',\n",
       " 'are',\n",
       " 'was',\n",
       " 'were',\n",
       " 'be',\n",
       " 'been',\n",
       " 'being',\n",
       " 'have',\n",
       " 'has',\n",
       " 'had',\n",
       " 'having',\n",
       " 'do',\n",
       " 'does',\n",
       " 'did',\n",
       " 'doing',\n",
       " 'a',\n",
       " 'an',\n",
       " 'the',\n",
       " 'and',\n",
       " 'but',\n",
       " 'if',\n",
       " 'or',\n",
       " 'because',\n",
       " 'as',\n",
       " 'until',\n",
       " 'while',\n",
       " 'of',\n",
       " 'at',\n",
       " 'by',\n",
       " 'for',\n",
       " 'with',\n",
       " 'about',\n",
       " 'against',\n",
       " 'between',\n",
       " 'into',\n",
       " 'through',\n",
       " 'during',\n",
       " 'before',\n",
       " 'after',\n",
       " 'above',\n",
       " 'below',\n",
       " 'to',\n",
       " 'from',\n",
       " 'up',\n",
       " 'down',\n",
       " 'in',\n",
       " 'out',\n",
       " 'on',\n",
       " 'off',\n",
       " 'over',\n",
       " 'under',\n",
       " 'again',\n",
       " 'further',\n",
       " 'then',\n",
       " 'once',\n",
       " 'here',\n",
       " 'there',\n",
       " 'when',\n",
       " 'where',\n",
       " 'why',\n",
       " 'how',\n",
       " 'all',\n",
       " 'any',\n",
       " 'both',\n",
       " 'each',\n",
       " 'few',\n",
       " 'more',\n",
       " 'most',\n",
       " 'other',\n",
       " 'some',\n",
       " 'such',\n",
       " 'no',\n",
       " 'nor',\n",
       " 'not',\n",
       " 'only',\n",
       " 'own',\n",
       " 'same',\n",
       " 'so',\n",
       " 'than',\n",
       " 'too',\n",
       " 'very',\n",
       " 's',\n",
       " 't',\n",
       " 'can',\n",
       " 'will',\n",
       " 'just',\n",
       " 'don',\n",
       " \"don't\",\n",
       " 'should',\n",
       " \"should've\",\n",
       " 'now',\n",
       " 'd',\n",
       " 'll',\n",
       " 'm',\n",
       " 'o',\n",
       " 're',\n",
       " 've',\n",
       " 'y',\n",
       " 'ain',\n",
       " 'aren',\n",
       " \"aren't\",\n",
       " 'couldn',\n",
       " \"couldn't\",\n",
       " 'didn',\n",
       " \"didn't\",\n",
       " 'doesn',\n",
       " \"doesn't\",\n",
       " 'hadn',\n",
       " \"hadn't\",\n",
       " 'hasn',\n",
       " \"hasn't\",\n",
       " 'haven',\n",
       " \"haven't\",\n",
       " 'isn',\n",
       " \"isn't\",\n",
       " 'ma',\n",
       " 'mightn',\n",
       " \"mightn't\",\n",
       " 'mustn',\n",
       " \"mustn't\",\n",
       " 'needn',\n",
       " \"needn't\",\n",
       " 'shan',\n",
       " \"shan't\",\n",
       " 'shouldn',\n",
       " \"shouldn't\",\n",
       " 'wasn',\n",
       " \"wasn't\",\n",
       " 'weren',\n",
       " \"weren't\",\n",
       " 'won',\n",
       " \"won't\",\n",
       " 'wouldn',\n",
       " \"wouldn't\"]"
      ]
     },
     "execution_count": 25,
     "metadata": {},
     "output_type": "execute_result"
    }
   ],
   "source": [
    "#Assign stopwords \n",
    "stopwords_list = nltk.corpus.stopwords.words('english')\n",
    "stopwords_list"
   ]
  },
  {
   "cell_type": "code",
   "execution_count": 26,
   "metadata": {
    "colab": {
     "base_uri": "https://localhost:8080/",
     "height": 206
    },
    "id": "AmLTgqm2TunS",
    "outputId": "0b292fdb-40fb-43e0-eeed-d252d374dbc1"
   },
   "outputs": [
    {
     "data": {
      "text/html": [
       "\n",
       "  <div id=\"df-67c2e9f3-2054-4c5c-8b27-6abd1ac5eeb1\">\n",
       "    <div class=\"colab-df-container\">\n",
       "      <div>\n",
       "<style scoped>\n",
       "    .dataframe tbody tr th:only-of-type {\n",
       "        vertical-align: middle;\n",
       "    }\n",
       "\n",
       "    .dataframe tbody tr th {\n",
       "        vertical-align: top;\n",
       "    }\n",
       "\n",
       "    .dataframe thead th {\n",
       "        text-align: right;\n",
       "    }\n",
       "</style>\n",
       "<table border=\"1\" class=\"dataframe\">\n",
       "  <thead>\n",
       "    <tr style=\"text-align: right;\">\n",
       "      <th></th>\n",
       "      <th>text</th>\n",
       "      <th>review_score</th>\n",
       "      <th>product_category</th>\n",
       "      <th>cleantext</th>\n",
       "    </tr>\n",
       "  </thead>\n",
       "  <tbody>\n",
       "    <tr>\n",
       "      <th>0</th>\n",
       "      <td>Works as described.  Nice combo tool.. Nice co...</td>\n",
       "      <td>4</td>\n",
       "      <td>musical_instruments</td>\n",
       "      <td>works described nice combo tool nice combo tool</td>\n",
       "    </tr>\n",
       "    <tr>\n",
       "      <th>1</th>\n",
       "      <td>I used this after using a \"straight\" bridge. T...</td>\n",
       "      <td>5</td>\n",
       "      <td>musical_instruments</td>\n",
       "      <td>used using straight bridge make third string t...</td>\n",
       "    </tr>\n",
       "    <tr>\n",
       "      <th>2</th>\n",
       "      <td>At first I was very hesitant about this game. ...</td>\n",
       "      <td>5</td>\n",
       "      <td>video_games</td>\n",
       "      <td>first hesitant game seemed surface capcom chan...</td>\n",
       "    </tr>\n",
       "    <tr>\n",
       "      <th>3</th>\n",
       "      <td>great reverb pedal. great addition to my pedal...</td>\n",
       "      <td>5</td>\n",
       "      <td>musical_instruments</td>\n",
       "      <td>great reverb pedal great addition pedal board ...</td>\n",
       "    </tr>\n",
       "    <tr>\n",
       "      <th>4</th>\n",
       "      <td>Five stars. Good deal a must buy</td>\n",
       "      <td>5</td>\n",
       "      <td>video_games</td>\n",
       "      <td>five stars good deal must buy</td>\n",
       "    </tr>\n",
       "  </tbody>\n",
       "</table>\n",
       "</div>\n",
       "      <button class=\"colab-df-convert\" onclick=\"convertToInteractive('df-67c2e9f3-2054-4c5c-8b27-6abd1ac5eeb1')\"\n",
       "              title=\"Convert this dataframe to an interactive table.\"\n",
       "              style=\"display:none;\">\n",
       "        \n",
       "  <svg xmlns=\"http://www.w3.org/2000/svg\" height=\"24px\"viewBox=\"0 0 24 24\"\n",
       "       width=\"24px\">\n",
       "    <path d=\"M0 0h24v24H0V0z\" fill=\"none\"/>\n",
       "    <path d=\"M18.56 5.44l.94 2.06.94-2.06 2.06-.94-2.06-.94-.94-2.06-.94 2.06-2.06.94zm-11 1L8.5 8.5l.94-2.06 2.06-.94-2.06-.94L8.5 2.5l-.94 2.06-2.06.94zm10 10l.94 2.06.94-2.06 2.06-.94-2.06-.94-.94-2.06-.94 2.06-2.06.94z\"/><path d=\"M17.41 7.96l-1.37-1.37c-.4-.4-.92-.59-1.43-.59-.52 0-1.04.2-1.43.59L10.3 9.45l-7.72 7.72c-.78.78-.78 2.05 0 2.83L4 21.41c.39.39.9.59 1.41.59.51 0 1.02-.2 1.41-.59l7.78-7.78 2.81-2.81c.8-.78.8-2.07 0-2.86zM5.41 20L4 18.59l7.72-7.72 1.47 1.35L5.41 20z\"/>\n",
       "  </svg>\n",
       "      </button>\n",
       "      \n",
       "  <style>\n",
       "    .colab-df-container {\n",
       "      display:flex;\n",
       "      flex-wrap:wrap;\n",
       "      gap: 12px;\n",
       "    }\n",
       "\n",
       "    .colab-df-convert {\n",
       "      background-color: #E8F0FE;\n",
       "      border: none;\n",
       "      border-radius: 50%;\n",
       "      cursor: pointer;\n",
       "      display: none;\n",
       "      fill: #1967D2;\n",
       "      height: 32px;\n",
       "      padding: 0 0 0 0;\n",
       "      width: 32px;\n",
       "    }\n",
       "\n",
       "    .colab-df-convert:hover {\n",
       "      background-color: #E2EBFA;\n",
       "      box-shadow: 0px 1px 2px rgba(60, 64, 67, 0.3), 0px 1px 3px 1px rgba(60, 64, 67, 0.15);\n",
       "      fill: #174EA6;\n",
       "    }\n",
       "\n",
       "    [theme=dark] .colab-df-convert {\n",
       "      background-color: #3B4455;\n",
       "      fill: #D2E3FC;\n",
       "    }\n",
       "\n",
       "    [theme=dark] .colab-df-convert:hover {\n",
       "      background-color: #434B5C;\n",
       "      box-shadow: 0px 1px 3px 1px rgba(0, 0, 0, 0.15);\n",
       "      filter: drop-shadow(0px 1px 2px rgba(0, 0, 0, 0.3));\n",
       "      fill: #FFFFFF;\n",
       "    }\n",
       "  </style>\n",
       "\n",
       "      <script>\n",
       "        const buttonEl =\n",
       "          document.querySelector('#df-67c2e9f3-2054-4c5c-8b27-6abd1ac5eeb1 button.colab-df-convert');\n",
       "        buttonEl.style.display =\n",
       "          google.colab.kernel.accessAllowed ? 'block' : 'none';\n",
       "\n",
       "        async function convertToInteractive(key) {\n",
       "          const element = document.querySelector('#df-67c2e9f3-2054-4c5c-8b27-6abd1ac5eeb1');\n",
       "          const dataTable =\n",
       "            await google.colab.kernel.invokeFunction('convertToInteractive',\n",
       "                                                     [key], {});\n",
       "          if (!dataTable) return;\n",
       "\n",
       "          const docLinkHtml = 'Like what you see? Visit the ' +\n",
       "            '<a target=\"_blank\" href=https://colab.research.google.com/notebooks/data_table.ipynb>data table notebook</a>'\n",
       "            + ' to learn more about interactive tables.';\n",
       "          element.innerHTML = '';\n",
       "          dataTable['output_type'] = 'display_data';\n",
       "          await google.colab.output.renderOutput(dataTable, element);\n",
       "          const docLink = document.createElement('div');\n",
       "          docLink.innerHTML = docLinkHtml;\n",
       "          element.appendChild(docLink);\n",
       "        }\n",
       "      </script>\n",
       "    </div>\n",
       "  </div>\n",
       "  "
      ],
      "text/plain": [
       "                                                text  review_score  \\\n",
       "0  Works as described.  Nice combo tool.. Nice co...             4   \n",
       "1  I used this after using a \"straight\" bridge. T...             5   \n",
       "2  At first I was very hesitant about this game. ...             5   \n",
       "3  great reverb pedal. great addition to my pedal...             5   \n",
       "4                   Five stars. Good deal a must buy             5   \n",
       "\n",
       "      product_category                                          cleantext  \n",
       "0  musical_instruments    works described nice combo tool nice combo tool  \n",
       "1  musical_instruments  used using straight bridge make third string t...  \n",
       "2          video_games  first hesitant game seemed surface capcom chan...  \n",
       "3  musical_instruments  great reverb pedal great addition pedal board ...  \n",
       "4          video_games                      five stars good deal must buy  "
      ]
     },
     "execution_count": 26,
     "metadata": {},
     "output_type": "execute_result"
    }
   ],
   "source": [
    "#preprocess clean text\n",
    "stop = stopwords.words('english')\n",
    "stop.append('I')\n",
    "stop_words = []\n",
    "dataset['cleantext'] = dataset['cleantext'].apply(lambda x: ' '.join([word for word in x.split() if word not in (stop)]))\n",
    "dataset.head()"
   ]
  },
  {
   "cell_type": "code",
   "execution_count": 27,
   "metadata": {
    "colab": {
     "base_uri": "https://localhost:8080/",
     "height": 0
    },
    "id": "h3b6nLwxT5yu",
    "outputId": "c260fedc-9138-427a-d02c-2314fb68653f"
   },
   "outputs": [
    {
     "data": {
      "text/plain": [
       "0        [work, describe, nice, combo, tool, nice, comb...\n",
       "1        [use, use, straight, bridge, make, third, stri...\n",
       "2        [first, hesitant, game, seem, surface, capcom,...\n",
       "3        [great, reverb, pedal, great, addition, pedal,...\n",
       "4                      [five, star, good, deal, must, buy]\n",
       "                               ...                        \n",
       "32910    [great, ts808, clone, price, can, not, beat, p...\n",
       "32913                        [come, box, complaints, good]\n",
       "32914    [first, knobs, like, knobs, easy, tweak, easy,...\n",
       "32915                [100, exactly, represent, great, buy]\n",
       "32916    [write, awful, review, pickup, review, strictl...\n",
       "Length: 29700, dtype: object"
      ]
     },
     "execution_count": 27,
     "metadata": {},
     "output_type": "execute_result"
    }
   ],
   "source": [
    "#Lemmatization\n",
    "from nltk.stem import WordNetLemmatizer \n",
    "from nltk.tokenize import word_tokenize \n",
    "lemmatizer = WordNetLemmatizer() \n",
    "\n",
    "# lemmatize string \n",
    "def lemmatize_word(text): \n",
    "    word_tokens = word_tokenize(text) \n",
    "    # provide context i.e. part-of-speech \n",
    "    lemmas = [lemmatizer.lemmatize(word, pos ='v') for word in word_tokens] \n",
    "    \n",
    "    return lemmas \n",
    "\n",
    "lemmatized_words = dataset.apply(lambda row: lemmatize_word(row['cleantext']),axis=1) \n",
    "#text = 'Fun if you havent played any of the games before!. Fun!'\n",
    "lemmatized_words"
   ]
  },
  {
   "cell_type": "code",
   "execution_count": 28,
   "metadata": {
    "colab": {
     "base_uri": "https://localhost:8080/",
     "height": 0
    },
    "id": "_c2JR7BnUBSf",
    "outputId": "a9fe2908-1a8e-407c-b8ad-196a1c274799"
   },
   "outputs": [
    {
     "data": {
      "text/plain": [
       "0        [works, described, nice, combo, tool, nice, co...\n",
       "1        [used, using, straight, bridge, make, third, s...\n",
       "2        [first, hesitant, game, seemed, surface, capco...\n",
       "3        [great, reverb, pedal, great, addition, pedal,...\n",
       "4                     [five, stars, good, deal, must, buy]\n",
       "                               ...                        \n",
       "32910    [great, ts808, clone, price, can, not, beat, p...\n",
       "32913                        [came, box, complaints, good]\n",
       "32914    [first, knobs, like, knobs, easy, tweak, easy,...\n",
       "32915              [100, exactly, represented, great, buy]\n",
       "32916    [wrote, awful, review, pickup, review, strictl...\n",
       "Length: 29700, dtype: object"
      ]
     },
     "execution_count": 28,
     "metadata": {},
     "output_type": "execute_result"
    }
   ],
   "source": [
    "#Tokenization\n",
    "tokenized_words = dataset.apply(lambda row: word_tokenize(row['cleantext']),axis=1)\n",
    "tokenized_words"
   ]
  },
  {
   "cell_type": "code",
   "execution_count": 29,
   "metadata": {
    "id": "dff8sG63cw03"
   },
   "outputs": [],
   "source": [
    "t = Tokenizer(oov_token='<UNK>')\n",
    "# fit the tokenizer on the documents\n",
    "t.fit_on_texts(norm_train_text)\n",
    "t.word_index['<PAD>'] = 0"
   ]
  },
  {
   "cell_type": "code",
   "execution_count": 30,
   "metadata": {
    "colab": {
     "base_uri": "https://localhost:8080/",
     "height": 0
    },
    "id": "0xd_eGZ1vQRR",
    "outputId": "79aa3763-0378-447b-dea4-482096474df5"
   },
   "outputs": [
    {
     "data": {
      "text/plain": [
       "(('mairo', 54485), ('<PAD>', 0), 1)"
      ]
     },
     "execution_count": 30,
     "metadata": {},
     "output_type": "execute_result"
    }
   ],
   "source": [
    "max([(k, v) for k, v in t.word_index.items()], key = lambda x:x[1]), min([(k, v) for k, v in t.word_index.items()], key = lambda x:x[1]), t.word_index['<UNK>']"
   ]
  },
  {
   "cell_type": "code",
   "execution_count": 31,
   "metadata": {
    "id": "4yv_m8T5c2xg"
   },
   "outputs": [],
   "source": [
    "train_sequences = t.texts_to_sequences(norm_train_text)"
   ]
  },
  {
   "cell_type": "code",
   "execution_count": 32,
   "metadata": {
    "id": "ifZCCxtydEnc"
   },
   "outputs": [],
   "source": [
    "test_sequences = t.texts_to_sequences(norm_test_text)"
   ]
  },
  {
   "cell_type": "code",
   "execution_count": 33,
   "metadata": {
    "colab": {
     "base_uri": "https://localhost:8080/",
     "height": 0
    },
    "id": "ldkDHyjZgaFV",
    "outputId": "455dda83-4f94-4e91-f59b-8f6c8827199f"
   },
   "outputs": [
    {
     "name": "stdout",
     "output_type": "stream",
     "text": [
      "Vocabulary size=54486\n",
      "Number of Documents=20800\n"
     ]
    }
   ],
   "source": [
    "print(\"Vocabulary size={}\".format(len(t.word_index)))\n",
    "print(\"Number of Documents={}\".format(t.document_count))"
   ]
  },
  {
   "cell_type": "code",
   "execution_count": 34,
   "metadata": {
    "colab": {
     "base_uri": "https://localhost:8080/",
     "height": 374
    },
    "id": "CQjiXA7Ntw13",
    "outputId": "83d38e7e-44d5-45e8-b760-feca8e5ee1e3"
   },
   "outputs": [
    {
     "data": {
      "image/png": "[encoded data removed]",
      "text/plain": [
       "<Figure size 864x432 with 2 Axes>"
      ]
     },
     "metadata": {
      "needs_background": "light"
     },
     "output_type": "display_data"
    }
   ],
   "source": [
    "import matplotlib.pyplot as plt\n",
    "%matplotlib inline\n",
    "\n",
    "train_lens = [len(s) for s in train_sequences]\n",
    "test_lens = [len(s) for s in test_sequences]\n",
    "\n",
    "fig, ax = plt.subplots(1,2, figsize=(12, 6))\n",
    "h1 = ax[0].hist(train_lens)\n",
    "h2 = ax[1].hist(test_lens)"
   ]
  },
  {
   "cell_type": "markdown",
   "metadata": {
    "id": "xfZwP6C8pxT8"
   },
   "source": [
    "### Sequence Normalization\n",
    "\n",
    "Not all reviews are of same length. To handle this difference in length of reviews, we define a maximum length.\n",
    "For reviews which are smaller than this length, we pad them with zeros which longer ones are truncated"
   ]
  },
  {
   "cell_type": "code",
   "execution_count": 35,
   "metadata": {
    "id": "BtuGJ0wXjQnC"
   },
   "outputs": [],
   "source": [
    "MAX_SEQUENCE_LENGTH = 2000"
   ]
  },
  {
   "cell_type": "code",
   "execution_count": 36,
   "metadata": {
    "colab": {
     "base_uri": "https://localhost:8080/",
     "height": 0
    },
    "id": "wAnv99kzWA5k",
    "outputId": "2e1c0307-94b9-41e9-80f3-06bb4d4c7fa4"
   },
   "outputs": [
    {
     "data": {
      "text/plain": [
       "((20800, 2000), (8900, 2000))"
      ]
     },
     "execution_count": 36,
     "metadata": {},
     "output_type": "execute_result"
    }
   ],
   "source": [
    "# pad dataset to a maximum review length in words\n",
    "X_train = sequence.pad_sequences(train_sequences, maxlen=MAX_SEQUENCE_LENGTH)\n",
    "X_test = sequence.pad_sequences(test_sequences, maxlen=MAX_SEQUENCE_LENGTH)\n",
    "X_train.shape, X_test.shape"
   ]
  },
  {
   "cell_type": "markdown",
   "metadata": {
    "id": "9X_4ticSpxUC"
   },
   "source": [
    "### Encoding Labels\n",
    "\n",
    "The dataset contains labels of the form positive/negative. The following step encodes the labels using ```sklearn's``` ```LabelEncoder```"
   ]
  },
  {
   "cell_type": "code",
   "execution_count": 37,
   "metadata": {
    "id": "rRMaWb1ldqyl"
   },
   "outputs": [],
   "source": [
    "le = LabelEncoder()\n",
    "num_classes=2 # positive -> 1, negative -> 0"
   ]
  },
  {
   "cell_type": "code",
   "execution_count": 38,
   "metadata": {
    "id": "tJjbtyDjfsd1"
   },
   "outputs": [],
   "source": [
    "y_train = le.fit_transform(train_category)\n",
    "y_test = le.transform(test_category)"
   ]
  },
  {
   "cell_type": "code",
   "execution_count": 39,
   "metadata": {
    "id": "iaqFz7ZpdoLC"
   },
   "outputs": [],
   "source": [
    "VOCAB_SIZE = len(t.word_index)"
   ]
  },
  {
   "cell_type": "markdown",
   "metadata": {
    "id": "YCjRYBh2pxUM"
   },
   "source": [
    "## Prepare the Model\n",
    "\n",
    "Since textual data is a sequence of words, we utilize ```1D``` convolutions to scan through the sentences.\n",
    "The model first transforms each word into lower dimensional embedding/vector space followed by 1d convolutions and then passing the data through dense layers before the final layer for classification"
   ]
  },
  {
   "cell_type": "code",
   "execution_count": 40,
   "metadata": {
    "id": "LR3mdd8kjgW1"
   },
   "outputs": [],
   "source": [
    "EMBED_SIZE = 300\n",
    "EPOCHS=3\n",
    "BATCH_SIZE=128"
   ]
  },
  {
   "cell_type": "code",
   "execution_count": 41,
   "metadata": {
    "colab": {
     "base_uri": "https://localhost:8080/",
     "height": 0
    },
    "id": "AXhAERVeXhmZ",
    "outputId": "ab67e61b-b147-4774-bfb2-c43a809b1c9b"
   },
   "outputs": [
    {
     "name": "stdout",
     "output_type": "stream",
     "text": [
      "Model: \"sequential\"\n",
      "_________________________________________________________________\n",
      " Layer (type)                Output Shape              Param #   \n",
      "=================================================================\n",
      " embedding (Embedding)       (None, 2000, 300)         16345800  \n",
      "                                                                 \n",
      " conv1d (Conv1D)             (None, 2000, 128)         153728    \n",
      "                                                                 \n",
      " max_pooling1d (MaxPooling1D  (None, 1000, 128)        0         \n",
      " )                                                               \n",
      "                                                                 \n",
      " conv1d_1 (Conv1D)           (None, 1000, 64)          32832     \n",
      "                                                                 \n",
      " max_pooling1d_1 (MaxPooling  (None, 500, 64)          0         \n",
      " 1D)                                                             \n",
      "                                                                 \n",
      " conv1d_2 (Conv1D)           (None, 500, 32)           8224      \n",
      "                                                                 \n",
      " max_pooling1d_2 (MaxPooling  (None, 250, 32)          0         \n",
      " 1D)                                                             \n",
      "                                                                 \n",
      " flatten (Flatten)           (None, 8000)              0         \n",
      "                                                                 \n",
      " dense (Dense)               (None, 256)               2048256   \n",
      "                                                                 \n",
      " dense_1 (Dense)             (None, 1)                 257       \n",
      "                                                                 \n",
      "=================================================================\n",
      "Total params: 18,589,097\n",
      "Trainable params: 18,589,097\n",
      "Non-trainable params: 0\n",
      "_________________________________________________________________\n"
     ]
    }
   ],
   "source": [
    "# create the model\n",
    "model = Sequential()\n",
    "model.add(Embedding(VOCAB_SIZE, EMBED_SIZE, input_length=MAX_SEQUENCE_LENGTH))\n",
    "model.add(Conv1D(filters=128, kernel_size=4, padding='same', activation='relu'))\n",
    "model.add(MaxPooling1D(pool_size=2))\n",
    "model.add(Conv1D(filters=64, kernel_size=4, padding='same', activation='relu'))\n",
    "model.add(MaxPooling1D(pool_size=2))\n",
    "model.add(Conv1D(filters=32, kernel_size=4, padding='same', activation='relu'))\n",
    "model.add(MaxPooling1D(pool_size=2))\n",
    "model.add(Flatten())\n",
    "model.add(Dense(256, activation='relu'))\n",
    "model.add(Dense(1, activation='sigmoid'))\n",
    "model.compile(loss='binary_crossentropy', optimizer='adam', metrics=['accuracy'])\n",
    "model.summary()"
   ]
  },
  {
   "cell_type": "markdown",
   "metadata": {
    "id": "szNl8QiQpxUa"
   },
   "source": [
    "## Model Training"
   ]
  },
  {
   "cell_type": "code",
   "execution_count": 42,
   "metadata": {
    "colab": {
     "base_uri": "https://localhost:8080/",
     "height": 0
    },
    "id": "0uc0jXszf5ob",
    "outputId": "cfe00a90-3500-4a20-9bb2-dda4e4dfefdf"
   },
   "outputs": [
    {
     "name": "stdout",
     "output_type": "stream",
     "text": [
      "Epoch 1/3\n",
      "130/130 [==============================] - 50s 299ms/step - loss: 0.2790 - accuracy: 0.8666 - val_loss: 0.1454 - val_accuracy: 0.9332\n",
      "Epoch 2/3\n",
      "130/130 [==============================] - 39s 298ms/step - loss: 0.0972 - accuracy: 0.9592 - val_loss: 0.1472 - val_accuracy: 0.9346\n",
      "Epoch 3/3\n",
      "130/130 [==============================] - 39s 299ms/step - loss: 0.0578 - accuracy: 0.9769 - val_loss: 0.1628 - val_accuracy: 0.9356\n"
     ]
    }
   ],
   "source": [
    "# Fit the model\n",
    "history = model.fit(X_train, y_train, \n",
    "          validation_split=0.2,\n",
    "          epochs=EPOCHS, \n",
    "          batch_size=BATCH_SIZE, \n",
    "          verbose=1)"
   ]
  },
  {
   "cell_type": "markdown",
   "metadata": {
    "id": "cuKczZqYpxUk"
   },
   "source": [
    "## Model Evaluation"
   ]
  },
  {
   "cell_type": "code",
   "execution_count": 43,
   "metadata": {
    "colab": {
     "base_uri": "https://localhost:8080/",
     "height": 0
    },
    "id": "3Zik9CWQgNlK",
    "outputId": "c7be87ca-1528-4840-f15b-c1e4409f67ba"
   },
   "outputs": [
    {
     "name": "stdout",
     "output_type": "stream",
     "text": [
      "279/279 [==============================] - 8s 27ms/step - loss: 0.1726 - accuracy: 0.9361\n",
      "Accuracy: 93.61%\n"
     ]
    }
   ],
   "source": [
    "# Final evaluation of the model\n",
    "scores = model.evaluate(X_test, y_test, verbose=1)\n",
    "print(\"Accuracy: %.2f%%\" % (scores[1]*100))"
   ]
  },
  {
   "cell_type": "code",
   "execution_count": 44,
   "metadata": {
    "colab": {
     "base_uri": "https://localhost:8080/",
     "height": 0
    },
    "id": "B904TLKNiA1B",
    "outputId": "1f324638-a07b-447e-97cf-3173c1b779db"
   },
   "outputs": [
    {
     "data": {
      "text/plain": [
       "array([1, 0, 0, 0, 1, 0, 1, 0, 0, 1], dtype=int32)"
      ]
     },
     "execution_count": 44,
     "metadata": {},
     "output_type": "execute_result"
    }
   ],
   "source": [
    "predictions = (model.predict(X_test) > 0.5).astype(\"int32\").ravel()\n",
    "predictions[:10]"
   ]
  },
  {
   "cell_type": "code",
   "execution_count": 45,
   "metadata": {
    "colab": {
     "base_uri": "https://localhost:8080/",
     "height": 0
    },
    "id": "mINpo7mDpxVC",
    "outputId": "d752147c-80ae-4dc5-8471-cad83a550512"
   },
   "outputs": [
    {
     "name": "stdout",
     "output_type": "stream",
     "text": [
      "              precision    recall  f1-score   support\n",
      "\n",
      "           0       0.89      0.91      0.90      2893\n",
      "           1       0.96      0.95      0.95      6007\n",
      "\n",
      "    accuracy                           0.94      8900\n",
      "   macro avg       0.93      0.93      0.93      8900\n",
      "weighted avg       0.94      0.94      0.94      8900\n",
      "\n"
     ]
    },
    {
     "data": {
      "text/plain": [
       "array([[2638,  255],\n",
       "       [ 314, 5693]])"
      ]
     },
     "execution_count": 45,
     "metadata": {},
     "output_type": "execute_result"
    }
   ],
   "source": [
    "from sklearn.metrics import confusion_matrix, classification_report\n",
    "\n",
    "labels = ['musical_instruments', 'video_games']\n",
    "print(classification_report(y_test, predictions))\n",
    "# print(pd.DataFrame(confusion_matrix(y_test, predictions), index=labels, columns=labels))\n",
    "confusion_matrix(y_test, predictions)"
   ]
  },
  {
   "cell_type": "code",
   "execution_count": 46,
   "metadata": {
    "colab": {
     "base_uri": "https://localhost:8080/",
     "height": 298
    },
    "id": "OrAjRqTM2y1U",
    "outputId": "3964d320-6fe6-42e0-8e93-3fdb78dc683f"
   },
   "outputs": [
    {
     "data": {
      "text/plain": [
       "<sklearn.metrics._plot.confusion_matrix.ConfusionMatrixDisplay at 0x7f2ac04c9610>"
      ]
     },
     "execution_count": 46,
     "metadata": {},
     "output_type": "execute_result"
    },
    {
     "data": {
      "image/png": "[encoded data removed]",
      "text/plain": [
       "<Figure size 432x288 with 2 Axes>"
      ]
     },
     "metadata": {
      "needs_background": "light"
     },
     "output_type": "display_data"
    }
   ],
   "source": [
    "#plotting t\n",
    "from sklearn.metrics import confusion_matrix, ConfusionMatrixDisplay\n",
    "\n",
    "cm = confusion_matrix(y_test, predictions, normalize='all')\n",
    "cmd = ConfusionMatrixDisplay(cm, display_labels=['musical_instruments', 'video_games'])\n",
    "cmd.plot()"
   ]
  },
  {
   "cell_type": "markdown",
   "metadata": {
    "id": "gntoRDezSLRW"
   },
   "source": [
    "# Methodology  2"
   ]
  },
  {
   "cell_type": "code",
   "execution_count": 47,
   "metadata": {
    "colab": {
     "base_uri": "https://localhost:8080/",
     "height": 279
    },
    "id": "27KBhaxLSK5C",
    "outputId": "50934d16-b357-43c2-bd1a-cfa0332c37be"
   },
   "outputs": [
    {
     "data": {
      "text/plain": [
       "<matplotlib.axes._subplots.AxesSubplot at 0x7f2ac00b9690>"
      ]
     },
     "execution_count": 47,
     "metadata": {},
     "output_type": "execute_result"
    },
    {
     "data": {
      "image/png": "[encoded data removed]",
      "text/plain": [
       "<Figure size 432x288 with 1 Axes>"
      ]
     },
     "metadata": {
      "needs_background": "light"
     },
     "output_type": "display_data"
    }
   ],
   "source": [
    "# checking the target distribution\n",
    "dataset.review_score.value_counts().plot(kind = 'bar')"
   ]
  },
  {
   "cell_type": "markdown",
   "metadata": {
    "id": "oGfz-H_fWY1p"
   },
   "source": [
    "Spliting the data into train and test sets:"
   ]
  },
  {
   "cell_type": "code",
   "execution_count": 48,
   "metadata": {
    "colab": {
     "base_uri": "https://localhost:8080/",
     "height": 0
    },
    "id": "fNTybEJMUXc2",
    "outputId": "cfa032eb-25b2-45ce-c4e8-ad573fb6ec90"
   },
   "outputs": [
    {
     "data": {
      "text/plain": [
       "((20790, 22357), (8910, 22357), (20790,), (8910,))"
      ]
     },
     "execution_count": 48,
     "metadata": {},
     "output_type": "execute_result"
    }
   ],
   "source": [
    "#Vectorizer\n",
    "from sklearn.feature_extraction.text import TfidfVectorizer\n",
    "from sklearn.svm import LinearSVC\n",
    "from sklearn.model_selection import train_test_split\n",
    "\n",
    "vectorizer = TfidfVectorizer(max_features = 30000, ngram_range = (1,3), analyzer = 'char')\n",
    "X = vectorizer.fit_transform(dataset['cleantext'])\n",
    "y = dataset['review_score']\n",
    "\n",
    "X_train,X_test, y_train, y_test = train_test_split(X,y,test_size = 0.30, random_state = 50)\n",
    "X_train.shape, X_test.shape, y_train.shape, y_test.shape\n"
   ]
  },
  {
   "cell_type": "markdown",
   "metadata": {
    "id": "EcI6P4Irt58g"
   },
   "source": [
    "SVM"
   ]
  },
  {
   "cell_type": "code",
   "execution_count": 49,
   "metadata": {
    "colab": {
     "base_uri": "https://localhost:8080/",
     "height": 0
    },
    "id": "KBI0qJgwU_0q",
    "outputId": "2385073f-598f-41f4-b5aa-a8593ac572a5"
   },
   "outputs": [
    {
     "name": "stdout",
     "output_type": "stream",
     "text": [
      "accuracy is 0.6368125701459035\n",
      "              precision    recall  f1-score   support\n",
      "\n",
      "           1       0.52      0.33      0.40       625\n",
      "           2       0.31      0.05      0.09       417\n",
      "           3       0.46      0.17      0.25       895\n",
      "           4       0.36      0.20      0.26      1701\n",
      "           5       0.69      0.94      0.80      5272\n",
      "\n",
      "    accuracy                           0.64      8910\n",
      "   macro avg       0.47      0.34      0.36      8910\n",
      "weighted avg       0.57      0.64      0.58      8910\n",
      "\n",
      "[[ 204   24   28   59  310]\n",
      " [  70   22   57   79  189]\n",
      " [  63   12  154  234  432]\n",
      " [  27    5   62  341 1266]\n",
      " [  32    7   34  246 4953]]\n"
     ]
    }
   ],
   "source": [
    "#Rclassification\n",
    "clf = LinearSVC()\n",
    "clf.fit(X_train,y_train)\n",
    "\n",
    "from sklearn.metrics import classification_report\n",
    "clf_predict = clf.predict(X_test)\n",
    "clf_predict\n",
    "\n",
    "#Evaluation\n",
    "print('accuracy is %s' % metrics.accuracy_score(clf_predict, y_test))\n",
    "print(classification_report(y_test, clf_predict))\n",
    "print(confusion_matrix(y_test,clf_predict))"
   ]
  },
  {
   "cell_type": "markdown",
   "metadata": {
    "id": "16nF9sLUXvfE"
   },
   "source": [
    "Logistic Regression"
   ]
  },
  {
   "cell_type": "code",
   "execution_count": 50,
   "metadata": {
    "colab": {
     "base_uri": "https://localhost:8080/",
     "height": 0
    },
    "id": "n8_KavVWhLjf",
    "outputId": "25443cbf-2d6e-4b1d-b021-2c723831fce4"
   },
   "outputs": [
    {
     "name": "stdout",
     "output_type": "stream",
     "text": [
      "accuracy 0.6267115600448934\n",
      "              precision    recall  f1-score   support\n",
      "\n",
      "           1       0.59      0.24      0.34       625\n",
      "           2       0.44      0.01      0.02       417\n",
      "           3       0.47      0.10      0.16       895\n",
      "           4       0.36      0.15      0.21      1701\n",
      "           5       0.66      0.97      0.78      5272\n",
      "\n",
      "    accuracy                           0.63      8910\n",
      "   macro avg       0.50      0.29      0.30      8910\n",
      "weighted avg       0.57      0.63      0.54      8910\n",
      "\n",
      "[[ 148    0   25   47  405]\n",
      " [  43    4   29   73  268]\n",
      " [  33    5   86  190  581]\n",
      " [   9    0   26  254 1412]\n",
      " [  19    0   16  145 5092]]\n"
     ]
    }
   ],
   "source": [
    "#LogisticRegressionclassification\n",
    "clf = LogisticRegression(max_iter=1000)\n",
    "clf.fit(X_train,y_train)\n",
    "\n",
    "from sklearn.metrics import classification_report\n",
    "lgr_predict = clf.predict(X_test)\n",
    "lgr_predict\n",
    "\n",
    "#The confusion matrix and classification report(precision, recall, F1-score)\n",
    "print('accuracy %s' % metrics.accuracy_score(lgr_predict, y_test))\n",
    "print(classification_report(y_test, lgr_predict))\n",
    "print(confusion_matrix(y_test,lgr_predict))\n"
   ]
  },
  {
   "cell_type": "markdown",
   "metadata": {
    "id": "uQWz6GylYHgV"
   },
   "source": [
    "Naive Bayes Classifier for Multinomial Models"
   ]
  },
  {
   "cell_type": "code",
   "execution_count": 51,
   "metadata": {
    "colab": {
     "base_uri": "https://localhost:8080/",
     "height": 0
    },
    "id": "LllOY2Ncjas7",
    "outputId": "6d276dab-8f90-42ed-bf54-41a34ffd1cb3"
   },
   "outputs": [
    {
     "name": "stdout",
     "output_type": "stream",
     "text": [
      "accuracy 0.591358024691358\n",
      "              precision    recall  f1-score   support\n",
      "\n",
      "           1       0.00      0.00      0.00       625\n",
      "           2       0.00      0.00      0.00       417\n",
      "           3       0.00      0.00      0.00       895\n",
      "           4       0.00      0.00      0.00      1701\n",
      "           5       0.59      1.00      0.74      5272\n",
      "\n",
      "    accuracy                           0.59      8910\n",
      "   macro avg       0.12      0.20      0.15      8910\n",
      "weighted avg       0.35      0.59      0.44      8910\n",
      "\n",
      "[[   0    0    0    0  625]\n",
      " [   0    0    0    0  417]\n",
      " [   0    0    0    0  895]\n",
      " [   0    0    0    0 1701]\n",
      " [   2    0    1    0 5269]]\n"
     ]
    },
    {
     "name": "stderr",
     "output_type": "stream",
     "text": [
      "/usr/local/lib/python3.7/dist-packages/sklearn/metrics/_classification.py:1318: UndefinedMetricWarning: Precision and F-score are ill-defined and being set to 0.0 in labels with no predicted samples. Use `zero_division` parameter to control this behavior.\n",
      "  _warn_prf(average, modifier, msg_start, len(result))\n",
      "/usr/local/lib/python3.7/dist-packages/sklearn/metrics/_classification.py:1318: UndefinedMetricWarning: Precision and F-score are ill-defined and being set to 0.0 in labels with no predicted samples. Use `zero_division` parameter to control this behavior.\n",
      "  _warn_prf(average, modifier, msg_start, len(result))\n",
      "/usr/local/lib/python3.7/dist-packages/sklearn/metrics/_classification.py:1318: UndefinedMetricWarning: Precision and F-score are ill-defined and being set to 0.0 in labels with no predicted samples. Use `zero_division` parameter to control this behavior.\n",
      "  _warn_prf(average, modifier, msg_start, len(result))\n"
     ]
    }
   ],
   "source": [
    "#Naive Bayes\n",
    "clf = MultinomialNB()\n",
    "clf.fit(X_train,y_train)\n",
    "\n",
    "from sklearn.metrics import classification_report\n",
    "nb_predict = clf.predict(X_test)\n",
    "nb_predict\n",
    "\n",
    "#The confusion matrix and classification report(precision, recall, F1-score)\n",
    "#Evaluation\n",
    "print('accuracy %s' % metrics.accuracy_score(nb_predict, y_test))\n",
    "print(classification_report(y_test, nb_predict))\n",
    "print(confusion_matrix(y_test,nb_predict))"
   ]
  },
  {
   "cell_type": "markdown",
   "metadata": {
    "id": "9ja9i0QOYOE-"
   },
   "source": [
    "Random Forest"
   ]
  },
  {
   "cell_type": "code",
   "execution_count": 52,
   "metadata": {
    "colab": {
     "base_uri": "https://localhost:8080/",
     "height": 0
    },
    "id": "wkONYjCVYQN_",
    "outputId": "ac2c46aa-e058-4cd5-be99-24b805c5f63b"
   },
   "outputs": [
    {
     "name": "stdout",
     "output_type": "stream",
     "text": [
      "accuracy 0.592929292929293\n",
      "              precision    recall  f1-score   support\n",
      "\n",
      "           1       0.25      0.00      0.01       625\n",
      "           2       0.00      0.00      0.00       417\n",
      "           3       0.20      0.00      0.00       895\n",
      "           4       0.38      0.03      0.06      1701\n",
      "           5       0.60      0.99      0.75      5272\n",
      "\n",
      "    accuracy                           0.59      8910\n",
      "   macro avg       0.28      0.21      0.16      8910\n",
      "weighted avg       0.46      0.59      0.45      8910\n",
      "\n",
      "[[   3    0    1    6  615]\n",
      " [   1    0    1   12  403]\n",
      " [   1    1    2   37  854]\n",
      " [   1    0    1   58 1641]\n",
      " [   6    0    5   41 5220]]\n"
     ]
    }
   ],
   "source": [
    "#Random Forest\n",
    "clf = RandomForestClassifier()\n",
    "clf.fit(X_train,y_train)\n",
    "\n",
    "from sklearn.metrics import classification_report\n",
    "rf_predict = clf.predict(X_test)\n",
    "rf_predict\n",
    "\n",
    "#Evaluation - The confusion matrix and classification report(precision, recall, F1-score)\n",
    "print('accuracy %s' % metrics.accuracy_score(rf_predict, y_test))\n",
    "print(classification_report(y_test, rf_predict))\n",
    "print(confusion_matrix(y_test,rf_predict))"
   ]
  },
  {
   "cell_type": "markdown",
   "metadata": {
    "id": "eqYz2ayiYTqH"
   },
   "source": [
    "Gradient Boosting"
   ]
  },
  {
   "cell_type": "code",
   "execution_count": 53,
   "metadata": {
    "id": "rzhZHhltYWY5"
   },
   "outputs": [],
   "source": [
    "# clf = GradientBoostingClassifier()\n",
    "# clf.fit(X_train,y_train)\n",
    "\n",
    "# from sklearn.metrics import classification_report\n",
    "# grb_predict = clf.predict(X_test)\n",
    "# grb_predict\n",
    "\n",
    "# #Evaluation\n",
    "# print(classification_report(y_test,grb_predict))\n",
    "# print(metrics.accuracy_score(y_test,grb_predict))\n",
    "# print(confusion_matrix(y_test,grb_predict))"
   ]
  },
  {
   "cell_type": "markdown",
   "metadata": {
    "id": "At-Z7JegZHu9"
   },
   "source": [
    "#Best model\n",
    "\n",
    "We have tested several different models and now, we check which one is the best:"
   ]
  },
  {
   "cell_type": "code",
   "execution_count": 54,
   "metadata": {
    "id": "eR62Ys_3ZKd9"
   },
   "outputs": [],
   "source": [
    "svm_acc = accuracy_score(y_test,clf_predict)\n",
    "log_acc = accuracy_score(y_test,lgr_predict)\n",
    "nb_acc = accuracy_score(y_test,nb_predict)\n",
    "rf_acc = accuracy_score(y_test,rf_predict)\n",
    "#gb_acc = accuracy_score(y_test,grb_predict)\n",
    "#nb_grid_acc = accuracy_score(y_test,clf_predict)"
   ]
  },
  {
   "cell_type": "code",
   "execution_count": 55,
   "metadata": {
    "colab": {
     "base_uri": "https://localhost:8080/",
     "height": 174
    },
    "id": "x1uw2jb9ZOpz",
    "outputId": "15fd1beb-d9e4-406f-8457-036259f6706e"
   },
   "outputs": [
    {
     "data": {
      "text/html": [
       "\n",
       "  <div id=\"df-0031c46b-2bf8-4155-b5e3-6da850f7661a\">\n",
       "    <div class=\"colab-df-container\">\n",
       "      <div>\n",
       "<style scoped>\n",
       "    .dataframe tbody tr th:only-of-type {\n",
       "        vertical-align: middle;\n",
       "    }\n",
       "\n",
       "    .dataframe tbody tr th {\n",
       "        vertical-align: top;\n",
       "    }\n",
       "\n",
       "    .dataframe thead th {\n",
       "        text-align: right;\n",
       "    }\n",
       "</style>\n",
       "<table border=\"1\" class=\"dataframe\">\n",
       "  <thead>\n",
       "    <tr style=\"text-align: right;\">\n",
       "      <th></th>\n",
       "      <th>Model</th>\n",
       "      <th>Score</th>\n",
       "    </tr>\n",
       "  </thead>\n",
       "  <tbody>\n",
       "    <tr>\n",
       "      <th>1</th>\n",
       "      <td>SVM</td>\n",
       "      <td>0.636813</td>\n",
       "    </tr>\n",
       "    <tr>\n",
       "      <th>0</th>\n",
       "      <td>Logistic Regression</td>\n",
       "      <td>0.626712</td>\n",
       "    </tr>\n",
       "    <tr>\n",
       "      <th>3</th>\n",
       "      <td>Random Forest</td>\n",
       "      <td>0.592929</td>\n",
       "    </tr>\n",
       "    <tr>\n",
       "      <th>2</th>\n",
       "      <td>Naive Bayes</td>\n",
       "      <td>0.591358</td>\n",
       "    </tr>\n",
       "  </tbody>\n",
       "</table>\n",
       "</div>\n",
       "      <button class=\"colab-df-convert\" onclick=\"convertToInteractive('df-0031c46b-2bf8-4155-b5e3-6da850f7661a')\"\n",
       "              title=\"Convert this dataframe to an interactive table.\"\n",
       "              style=\"display:none;\">\n",
       "        \n",
       "  <svg xmlns=\"http://www.w3.org/2000/svg\" height=\"24px\"viewBox=\"0 0 24 24\"\n",
       "       width=\"24px\">\n",
       "    <path d=\"M0 0h24v24H0V0z\" fill=\"none\"/>\n",
       "    <path d=\"M18.56 5.44l.94 2.06.94-2.06 2.06-.94-2.06-.94-.94-2.06-.94 2.06-2.06.94zm-11 1L8.5 8.5l.94-2.06 2.06-.94-2.06-.94L8.5 2.5l-.94 2.06-2.06.94zm10 10l.94 2.06.94-2.06 2.06-.94-2.06-.94-.94-2.06-.94 2.06-2.06.94z\"/><path d=\"M17.41 7.96l-1.37-1.37c-.4-.4-.92-.59-1.43-.59-.52 0-1.04.2-1.43.59L10.3 9.45l-7.72 7.72c-.78.78-.78 2.05 0 2.83L4 21.41c.39.39.9.59 1.41.59.51 0 1.02-.2 1.41-.59l7.78-7.78 2.81-2.81c.8-.78.8-2.07 0-2.86zM5.41 20L4 18.59l7.72-7.72 1.47 1.35L5.41 20z\"/>\n",
       "  </svg>\n",
       "      </button>\n",
       "      \n",
       "  <style>\n",
       "    .colab-df-container {\n",
       "      display:flex;\n",
       "      flex-wrap:wrap;\n",
       "      gap: 12px;\n",
       "    }\n",
       "\n",
       "    .colab-df-convert {\n",
       "      background-color: #E8F0FE;\n",
       "      border: none;\n",
       "      border-radius: 50%;\n",
       "      cursor: pointer;\n",
       "      display: none;\n",
       "      fill: #1967D2;\n",
       "      height: 32px;\n",
       "      padding: 0 0 0 0;\n",
       "      width: 32px;\n",
       "    }\n",
       "\n",
       "    .colab-df-convert:hover {\n",
       "      background-color: #E2EBFA;\n",
       "      box-shadow: 0px 1px 2px rgba(60, 64, 67, 0.3), 0px 1px 3px 1px rgba(60, 64, 67, 0.15);\n",
       "      fill: #174EA6;\n",
       "    }\n",
       "\n",
       "    [theme=dark] .colab-df-convert {\n",
       "      background-color: #3B4455;\n",
       "      fill: #D2E3FC;\n",
       "    }\n",
       "\n",
       "    [theme=dark] .colab-df-convert:hover {\n",
       "      background-color: #434B5C;\n",
       "      box-shadow: 0px 1px 3px 1px rgba(0, 0, 0, 0.15);\n",
       "      filter: drop-shadow(0px 1px 2px rgba(0, 0, 0, 0.3));\n",
       "      fill: #FFFFFF;\n",
       "    }\n",
       "  </style>\n",
       "\n",
       "      <script>\n",
       "        const buttonEl =\n",
       "          document.querySelector('#df-0031c46b-2bf8-4155-b5e3-6da850f7661a button.colab-df-convert');\n",
       "        buttonEl.style.display =\n",
       "          google.colab.kernel.accessAllowed ? 'block' : 'none';\n",
       "\n",
       "        async function convertToInteractive(key) {\n",
       "          const element = document.querySelector('#df-0031c46b-2bf8-4155-b5e3-6da850f7661a');\n",
       "          const dataTable =\n",
       "            await google.colab.kernel.invokeFunction('convertToInteractive',\n",
       "                                                     [key], {});\n",
       "          if (!dataTable) return;\n",
       "\n",
       "          const docLinkHtml = 'Like what you see? Visit the ' +\n",
       "            '<a target=\"_blank\" href=https://colab.research.google.com/notebooks/data_table.ipynb>data table notebook</a>'\n",
       "            + ' to learn more about interactive tables.';\n",
       "          element.innerHTML = '';\n",
       "          dataTable['output_type'] = 'display_data';\n",
       "          await google.colab.output.renderOutput(dataTable, element);\n",
       "          const docLink = document.createElement('div');\n",
       "          docLink.innerHTML = docLinkHtml;\n",
       "          element.appendChild(docLink);\n",
       "        }\n",
       "      </script>\n",
       "    </div>\n",
       "  </div>\n",
       "  "
      ],
      "text/plain": [
       "                 Model     Score\n",
       "1                  SVM  0.636813\n",
       "0  Logistic Regression  0.626712\n",
       "3        Random Forest  0.592929\n",
       "2          Naive Bayes  0.591358"
      ]
     },
     "execution_count": 55,
     "metadata": {},
     "output_type": "execute_result"
    }
   ],
   "source": [
    "# List the models have tested\n",
    "models = pd.DataFrame({\n",
    "                      'Model': ['Logistic Regression', 'SVM', 'Naive Bayes', 'Random Forest'],\n",
    "                      'Score': [log_acc, svm_acc, nb_acc, rf_acc]})\n",
    "models.sort_values(by='Score', ascending=False)"
   ]
  }
 ],
 "metadata": {
  "accelerator": "GPU",
  "anaconda-cloud": {},
  "colab": {
   "collapsed_sections": [],
   "name": "code_ML.ipynb",
   "provenance": []
  },
  "kernelspec": {
   "display_name": "Python 3",
   "language": "python",
   "name": "python3"
  },
  "language_info": {
   "codemirror_mode": {
    "name": "ipython",
    "version": 3
   },
   "file_extension": ".py",
   "mimetype": "text/x-python",
   "name": "python",
   "nbconvert_exporter": "python",
   "pygments_lexer": "ipython3",
   "version": "3.8.8"
  }
 },
 "nbformat": 4,
 "nbformat_minor": 1
}
